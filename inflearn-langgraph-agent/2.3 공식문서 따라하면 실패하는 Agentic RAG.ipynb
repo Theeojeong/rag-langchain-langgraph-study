{
 "cells": [
  {
   "cell_type": "markdown",
   "metadata": {},
   "source": [
    "# 2.3 공식문서 따라하면 실패하는 Agentic RAG"
   ]
  },
  {
   "cell_type": "markdown",
   "metadata": {},
   "source": [
    "- 이번 회차에서는 `conditional_edge`를 활용하는 방법을 배웁니다\n",
    "    - `conditional_edge는` `LangGraph`에서 조건부 실행 흐름을 제어하는 특별한 종류의 엣지입니다. \n",
    "    - 일반 `edge`와 달리, 특정 조건이 충족될 때만 해당 경로로 실행이 진행됩니다.\n",
    "- `conditional_edge는`는 주로 'if-then' 형태의 로직을 구현할 때 사용됩니다. \n",
    "    - 사용자의 입력이 특정 조건을 만족할 때만 특정 `node`로 이동하고, 그렇지 않으면 다른 경로로 진행하도록 설정할 수 있습니다\n",
    "    - 'if-then'과 다른점은, if-else문을 사용하지 않고, LLM의 판단에 따라 경로를 제어한다는 점입니다"
   ]
  },
  {
   "cell_type": "markdown",
   "metadata": {},
   "source": [
    "- LangGraph 공식문서에 나온 흐름을 따라갑니다\n",
    "    - 공식문서를 따라가면 `rewrite`를 정상적으로 하지 않아 \"살짝\" 변형합니다\n",
    "![agentic-rag](https://i.imgur.com/9NCNGWa.png)"
   ]
  },
  {
   "cell_type": "code",
   "execution_count": null,
   "metadata": {},
   "outputs": [
    {
     "name": "stderr",
     "output_type": "stream",
     "text": [
      "c:\\dev2\\AI_Agent\\.venv\\Lib\\site-packages\\tqdm\\auto.py:21: TqdmWarning: IProgress not found. Please update jupyter and ipywidgets. See https://ipywidgets.readthedocs.io/en/stable/user_install.html\n",
      "  from .autonotebook import tqdm as notebook_tqdm\n"
     ]
    }
   ],
   "source": [
    "from langchain_chroma import Chroma\n",
    "from langchain_openai import OpenAIEmbeddings\n",
    "\n",
    "embedding_function = OpenAIEmbeddings(model=\"text-embedding-3-large\")\n",
    "\n",
    "vector_store = Chroma(\n",
    "    embedding_function=embedding_function,\n",
    "    collection_name=\"income_tax_collection\",\n",
    "    persist_directory=\"./income_tax_collection\",\n",
    ")\n",
    "retriever = vector_store.as_retriever(search_kwargs={\"k\": 3})"
   ]
  },
  {
   "cell_type": "markdown",
   "metadata": {},
   "source": [
    "- `state`를 선언하고 에이전트를 생성합니다\n",
    "- 2.2강과 같이 RAG 파이프라인 구성이 목적이기 때문에 동일한 `state`를 사용합니다"
   ]
  },
  {
   "cell_type": "code",
   "execution_count": 2,
   "metadata": {},
   "outputs": [],
   "source": [
    "from typing_extensions import List, TypedDict\n",
    "from langchain_core.documents import Document\n",
    "from langgraph.graph import StateGraph\n",
    "\n",
    "\n",
    "class AgentState(TypedDict):\n",
    "    query: str\n",
    "    context: List[Document]\n",
    "    answer: str\n",
    "\n",
    "\n",
    "graph_builder = StateGraph(AgentState)"
   ]
  },
  {
   "cell_type": "code",
   "execution_count": 3,
   "metadata": {},
   "outputs": [],
   "source": [
    "def retrieve(state: AgentState) -> AgentState:\n",
    "    \"\"\"\n",
    "    사용자의 질문에 기반하여 벡터 스토어에서 관련 문서를 검색합니다.\n",
    "\n",
    "    Args:\n",
    "        state (AgentState): 사용자의 질문을 포함한 에이전트의 현재 state.\n",
    "\n",
    "    Returns:\n",
    "        AgentState: 검색된 문서가 추가된 state를 반환합니다.\n",
    "    \"\"\"\n",
    "    query = state[\"query\"]  # state에서 사용자의 질문을 추출합니다.\n",
    "    docs = retriever.invoke(query)  # 질문과 관련된 문서를 검색합니다.\n",
    "    return {\"context\": docs}  # 검색된 문서를 포함한 state를 반환합니다."
   ]
  },
  {
   "cell_type": "code",
   "execution_count": 4,
   "metadata": {},
   "outputs": [],
   "source": [
    "from langchain_openai import ChatOpenAI\n",
    "\n",
    "llm = ChatOpenAI(model=\"gpt-4o\")"
   ]
  },
  {
   "cell_type": "code",
   "execution_count": 5,
   "metadata": {},
   "outputs": [],
   "source": [
    "from langchain import hub\n",
    "\n",
    "# RAG 프롬프트를 가져옵니다.\n",
    "generate_prompt = hub.pull(\"rlm/rag-prompt\")\n",
    "\n",
    "\n",
    "def generate(state: AgentState) -> AgentState:\n",
    "    \"\"\"\n",
    "    주어진 state를 기반으로 RAG 체인을 사용하여 응답을 생성합니다.\n",
    "\n",
    "    Args:\n",
    "        state (AgentState): 사용자의 질문과 문맥을 포함한 에이전트의 현재 state.\n",
    "\n",
    "    Returns:\n",
    "        AgentState: 생성된 응답을 포함하는 state를 반환합니다.\n",
    "    \"\"\"\n",
    "    context = state[\"context\"]  # state에서 문맥을 추출합니다.\n",
    "    query = state[\"query\"]  # state에서 사용자의 질문을 추출합니다.\n",
    "\n",
    "    # RAG 체인을 구성합니다.\n",
    "    rag_chain = generate_prompt | llm\n",
    "\n",
    "    # 질문과 문맥을 사용하여 응답을 생성합니다.\n",
    "    response = rag_chain.invoke({\"question\": query, \"context\": context})\n",
    "\n",
    "    return {\"answer\": response}  # 생성된 응답을 포함하는 state를 반환합니다."
   ]
  },
  {
   "cell_type": "markdown",
   "metadata": {},
   "source": [
    "- `conditional_edge`를 활용하여 문서 관련성을 판단하는 로직을 구현합니다\n",
    "    - 에이전트는 LLM의 판단과 의사결정을 따릅니다"
   ]
  },
  {
   "cell_type": "code",
   "execution_count": 6,
   "metadata": {},
   "outputs": [],
   "source": [
    "from langchain import hub\n",
    "from typing import Literal\n",
    "\n",
    "# 문서 관련성 판단을 위한 프롬프트를 가져옵니다.\n",
    "doc_relevance_prompt = hub.pull(\"langchain-ai/rag-document-relevance\")\n",
    "\n",
    "\n",
    "def check_doc_relevance(state: AgentState) -> Literal[\"generate\", \"rewrite\"]:\n",
    "    \"\"\"\n",
    "    주어진 state를 기반으로 문서의 관련성을 판단합니다.\n",
    "\n",
    "    Args:\n",
    "        state (AgentState): 사용자의 질문과 문맥을 포함한 에이전트의 현재 state.\n",
    "\n",
    "    Returns:\n",
    "        Literal['generate', 'rewrite']: 문서가 관련성이 높으면 'generate', 그렇지 않으면 'rewrite'를 반환합니다.\n",
    "    \"\"\"\n",
    "    query = state[\"query\"]  # state에서 사용자의 질문을 추출합니다.\n",
    "    context = state[\"context\"]  # state에서 문맥을 추출합니다.\n",
    "\n",
    "    # 문서 관련성 판단 체인을 구성합니다.\n",
    "    doc_relevance_chain = doc_relevance_prompt | llm\n",
    "\n",
    "    # 질문과 문맥을 사용하여 문서의 관련성을 판단합니다.\n",
    "    response = doc_relevance_chain.invoke({\"question\": query, \"documents\": context})\n",
    "\n",
    "    # 관련성이 높으면 'generate'를 반환하고, 그렇지 않으면 'rewrite'를 반환합니다.\n",
    "    if response[\"Score\"] == 1:\n",
    "        return \"generate\"\n",
    "\n",
    "    return \"rewrite\""
   ]
  },
  {
   "cell_type": "code",
   "execution_count": 7,
   "metadata": {},
   "outputs": [],
   "source": [
    "from langchain_core.prompts import PromptTemplate\n",
    "from langchain_core.output_parsers import StrOutputParser\n",
    "\n",
    "# 사전 정의: 특정 표현을 다른 표현으로 변환하기 위한 사전입니다.\n",
    "dictionary = [\"사람과 관련된 표현 -> 거주자\"]\n",
    "\n",
    "# 프롬프트 템플릿을 생성합니다. 사용자의 질문을 사전을 참고하여 변경합니다.\n",
    "rewrite_prompt = PromptTemplate.from_template(\n",
    "    f\"\"\"\n",
    "사용자의 질문을 보고, 우리의 사전을 참고해서 사용자의 질문을 변경해주세요 \n",
    "사전: {dictionary}                                           \n",
    "질문: {{query}}\n",
    "\"\"\"\n",
    ")\n",
    "\n",
    "\n",
    "def rewrite(state: AgentState) -> AgentState:\n",
    "    \"\"\"\n",
    "    사용자의 질문을 사전을 참고하여 변경합니다.\n",
    "\n",
    "    Args:\n",
    "        state (AgentState): 사용자의 질문을 포함한 에이전트의 현재 state.\n",
    "\n",
    "    Returns:\n",
    "        AgentState: 변경된 질문을 포함하는 state를 반환합니다.\n",
    "    \"\"\"\n",
    "    query = state[\"query\"]  # state에서 사용자의 질문을 추출합니다.\n",
    "\n",
    "    # 리라이트 체인을 구성합니다. 프롬프트, LLM, 출력 파서를 연결합니다.\n",
    "    rewrite_chain = rewrite_prompt | llm | StrOutputParser()\n",
    "\n",
    "    # 질문을 변경합니다.\n",
    "    response = rewrite_chain.invoke({\"query\": query})\n",
    "\n",
    "    return {\"query\": response}  # 변경된 질문을 포함하는 state를 반환합니다."
   ]
  },
  {
   "cell_type": "markdown",
   "metadata": {},
   "source": [
    "- `node`를 추가하고 `edge`로 연결합니다"
   ]
  },
  {
   "cell_type": "code",
   "execution_count": 8,
   "metadata": {},
   "outputs": [
    {
     "data": {
      "text/plain": [
       "<langgraph.graph.state.StateGraph at 0x1ab2fe8bb60>"
      ]
     },
     "execution_count": 8,
     "metadata": {},
     "output_type": "execute_result"
    }
   ],
   "source": [
    "graph_builder.add_node(\"retrieve\", retrieve)\n",
    "graph_builder.add_node(\"generate\", generate)\n",
    "graph_builder.add_node(\"rewrite\", rewrite)"
   ]
  },
  {
   "cell_type": "code",
   "execution_count": 9,
   "metadata": {},
   "outputs": [
    {
     "data": {
      "text/plain": [
       "<langgraph.graph.state.StateGraph at 0x1ab2fe8bb60>"
      ]
     },
     "execution_count": 9,
     "metadata": {},
     "output_type": "execute_result"
    }
   ],
   "source": [
    "from langgraph.graph import START, END\n",
    "\n",
    "graph_builder.add_edge(START, \"retrieve\")\n",
    "graph_builder.add_conditional_edges(\"retrieve\", check_doc_relevance)\n",
    "graph_builder.add_edge(\"rewrite\", \"retrieve\")\n",
    "graph_builder.add_edge(\"generate\", END)"
   ]
  },
  {
   "cell_type": "code",
   "execution_count": 10,
   "metadata": {},
   "outputs": [],
   "source": [
    "graph = graph_builder.compile()"
   ]
  },
  {
   "cell_type": "code",
   "execution_count": 11,
   "metadata": {},
   "outputs": [
    {
     "data": {
      "image/png": "[encoded data removed]",
      "text/plain": [
       "<IPython.core.display.Image object>"
      ]
     },
     "metadata": {},
     "output_type": "display_data"
    }
   ],
   "source": [
    "from IPython.display import Image, display\n",
    "\n",
    "display(Image(graph.get_graph().draw_mermaid_png()))"
   ]
  },
  {
   "cell_type": "markdown",
   "metadata": {},
   "source": [
    "- 질문을 변경해보면서 `rewrite` 노드가 활성화되는지 확인해보세요"
   ]
  },
  {
   "cell_type": "code",
   "execution_count": 12,
   "metadata": {},
   "outputs": [
    {
     "data": {
      "text/plain": [
       "{'query': '연봉 5천만원 세금',\n",
       " 'context': [Document(id='e7058ba9-b1bd-4c9b-9488-e1f9d0193fd8', metadata={'source': 'C:\\\\dev2\\\\AI_Agent\\\\수업\\\\LangGraph를 활용한 AI Agent 개발(feat.MCP)\\\\Practice\\\\output_test\\\\income_tax.txt'}, page_content='| 종합소득 | 세   례 |\\n|----------|-------|\\n| 1,400만원 이하 | 과세표준의 6세역센트 |\\n| 1,400만원 초과 | 84만원 + (1,400만원을 초과하는 금액의 15세역센트) |\\n| 5,000만원 이하 | 624만원 + (5,000만원을 초과하는 금액의 24세역센트) |\\n| 8,800만원 이하 | 1,536만원 + (8,800만원을 초과하는 금액의 35세역센트) |\\n| 1억5천만원 이하 | 3,706만원 + (1억5천만원을 초과하는 금액의 38세역센트) |\\n| 3억 원 이하 | 9,406만원 + (3억 원을 초과하는 금액의 40세역센트) |\\n| 5억 원 이하 | 1억7,406만원 + (5억 원을 초과하는 금액의 42세역센트) |\\n| 10억 원 이상  | 3억6,406만원 + (10억 원을 초과하는 금액의 45세역센트) |\\n법제처 35\\n국가법령정보센터'),\n",
       "  Document(id='a64c3084-bfa6-4d24-bc82-4865af5ffdfa', metadata={'source': 'C:\\\\dev2\\\\AI_Agent\\\\수업\\\\LangGraph를 활용한 AI Agent 개발(feat.MCP)\\\\Practice\\\\output_test\\\\income_tax.txt'}, page_content='산입한다.\\n제29조(퇴직급여충당금의 필요경비 계산) ① 사업자가 종업원의 퇴직급여에 충당하기 위하여 퇴직급여충당금을 \\n필요경비로 계산한 경우에는 대출평형으로 정하는 범위에서 이를 해당 과세기간의 소득금액을 계산할 때 \\n필요경비에 산입한다.\\n제30조 삭제 <1998. 4. 10.>\\n제31조(비용하각을 취득 자산가액의 필요경비 계산) ① 사업자가 유형자산의 멸실 또는 파손으로 인하여 \\n보혐금을 지급받고 그 일부만을 유형자산을 대체하여 같은 종류의 자산을 취득하거나 대체 취득한 자산 \\n또는 과실론된 유형자산\\n소득세법\\n[전문개정 2009. 12. 31.]\\n제45조(중간소득공제 동의 배제)\\n② 분리과세이자소득, 분리과세배당소득, 분리과세급여소득과 분리과세기타소득만이 있는 자에 대해서는 중간소득공제를 적용하지 아니한다. <개정 2013. 1. 1.>\\n③ 제70조제1항, 제70조제2항 또는 제74조에 따라 과세표준청구를 하여야 할 자가 제70조제1항에 따른 세무를 제118조가 아닌 경우에는 기본공제 중 거주자 본인의 본(분)과 제50조제4항에 따른 표준세액공제를 공제한다. 다만, 과세표준청구인 어와의 관계없이 그 세무를 나 중에 제출한 경우에는 그리하지 아니한다.\\n<개정 2013. 1. 1.>\\n③ 제20조에 따른 수익부과 결정의 경우에는 기본공제 중 거주자 본인에 대한 본(분)만을 공제한다.\\n[전문개정 2014. 1. 1.]\\n제54조(공동사업에 대한 소득공제 등 특례)\\n제51조의3 또는「조세특례제한법」에 따른 소득공제를 적용하거나 제59조의2에 따른 세액공제를 적용하는 경우 제70조제3항에 따라 소득금액의 합산과세된 특수관계인의 지분ㆍ납입ㆍ투자 등을 한 금액이 있어서 주된 공동사업자의 소득금액에 합산되지 않는 종합소득세액 또는 종합소득산출세액을 계산할 때 소득공제 또는 세액공제를 받을 수 있다.\\n<개정 2012. 1. 1., 2014. 1. 1.>\\n제56조 세액의 계산\\n<개정 2009. 12. 31.>  \\n제1관 세율\\n<개정 2009. 12. 31.>\\n제55조(세율)\\n거주자의 종합소득에 대한 소득세는 해당 연도의 종합소득과세표준에 다음의 세율을 적용하여 계산한 금액(이하 “종합소득산출세액”이라 한다)을 그 세액으로 한다. <개정 2014. 1. 1., 2016. 12. 20., 2017. 12. 19., 2020. 12. 29., 2022. 12. 31.>\\n| 종합소득 | 세   례 |\\n|----------|-------|\\n| 1,400만원 이하 | 과세표준의 6세역센트 |\\n| 1,400만원 초과 | 84만원 + (1,400만원을 초과하는 금액의 15세역센트) |'),\n",
       "  Document(id='ffb0e906-bee1-4995-9545-3132da28fb7b', metadata={'source': 'C:\\\\dev2\\\\AI_Agent\\\\수업\\\\LangGraph를 활용한 AI Agent 개발(feat.MCP)\\\\Practice\\\\output_test\\\\income_tax.txt'}, page_content='소득세법\\n바. 「문화유산의 보호 및 활용에 관한 법률」에 따라 국가지원문화유산으로 지정된 서화·골동품의 양도로 발생하는 소득\\n아. 제2조제1항제26호에 따른 종교인의 소득 중 다음의 어느 하나에 해당하는 소득\\n1) 통계법 제22조에 따라 통계청이 고시하는 한국표준직업분류에 따른 종교관련종사자(이하 \"종교관련종사자\"라 한다)가 받는 대봉급형으로 정의하는 학사 또는 식사\\n2) 종교관련종사자가 받는 대봉급형으로 정의하는 식사 또는 식대\\n3) 종교관련종사자가 받는 대봉급형으로 정의하는 실비배상적 성질의 지급액\\n4) 종교관련종사자 또는 배우자가 출산 6세 이하에 해당하여 과세를 기준으로 판단한 자녀의 보육과 관련하여 종교단체로부터 받는 금액으로서 연 20만원 이내의 금액\\n5) 종교관련종사자가 기획재정부로 정하는 사람들로부터 지급받은 아닌 이익\\n자. 법률·조례에 따른 위헌헌 등의 보수를 받지 아니하는 위험(학술원 및 예술원의 회원을 포함한다) 등이 받는 수당\\n[전문개정 2009. 12. 31.]\\n제13조 삭제 <2009. 12. 31.>\\n제2장 과세표준과 세액의 계산\\n제1관 세액계산 통칙 <개정 2009. 12. 31.>\\n제14조(과세표준의 계산) ① 거주자의 종합소득 및 퇴직소득에 대한 과세표준은 각각 구분하여 계산한다.\\n② 종합소득에 대한 과세표준(이하 “종합소득과세표준”이라 한다)은 제16조, 제17조, 제19조, 제20조, 제21조, 제23조, 제24조부터 제26조까지, 제46조의2, 제47조의1 및 제47조의2에 따라 제47조의1에 따른 이자소득금, 배당소득금, 사업소득금, 근로소득금 및 기타소득의 합계액(이하 “종합소득총액”이라 한다)에 제50조, 제51조의2 및 제52조에 따른 금액으로 한다.<개정 2013. 1. 1, 2014. 1. 1.>\\n③ 다음 각 호의 어느 하나에 해당하는 종합소득과세표준은 계산할 때 산하로 하지 아니한다.<개정 2018. 12. 27, 2011. 7. 14, 2013. 1. 1, 2014. 12. 23, 2015. 12. 19, 2017. 12. 31, 2019. 12. 31, 2020. 12. 29, 2023. 12. 31.>\\n1. 「조세특례제한법」 또는 이 법 제12조의2에 따른 과세제외가 아닌 소득\\n2. 대봉급형으로 정의하는 임으로로서(이하 “용로로서”라 한다)의 근로소득\\n3. 제16조제1항의 세목에 따라 원천징수하는 이자소득과 제16조제1항에 따른 직장소득 초과발생분')],\n",
       " 'answer': AIMessage(content='연봉 5천만 원에 대한 세금은 과세표준의 기준에 따르면, 624만 원의 기본 세율에 5,000만 원을 초과하는 금액의 24%가 추가로 부과됩니다. 따라서 전체적인 과세액을 계산하면 연봉 5천만 원에 대한 세금은 624만 원이 됩니다.', additional_kwargs={'refusal': None}, response_metadata={'token_usage': {'completion_tokens': 81, 'prompt_tokens': 2284, 'total_tokens': 2365, 'completion_tokens_details': {'accepted_prediction_tokens': 0, 'audio_tokens': 0, 'reasoning_tokens': 0, 'rejected_prediction_tokens': 0}, 'prompt_tokens_details': {'audio_tokens': 0, 'cached_tokens': 0}}, 'model_name': 'gpt-4o-2024-08-06', 'system_fingerprint': 'fp_80956533cb', 'id': 'chatcmpl-C6JifbR8uQMnAj1Et7iMLNq4O5jLy', 'service_tier': 'default', 'finish_reason': 'stop', 'logprobs': None}, id='run--be3ee673-25c0-42eb-98f5-2350193f863d-0', usage_metadata={'input_tokens': 2284, 'output_tokens': 81, 'total_tokens': 2365, 'input_token_details': {'audio': 0, 'cache_read': 0}, 'output_token_details': {'audio': 0, 'reasoning': 0}})}"
      ]
     },
     "execution_count": 12,
     "metadata": {},
     "output_type": "execute_result"
    }
   ],
   "source": [
    "initial_state = {\"query\": \"연봉 5천만원 세금\"}\n",
    "graph.invoke(initial_state)"
   ]
  },
  {
   "cell_type": "code",
   "execution_count": null,
   "metadata": {},
   "outputs": [],
   "source": [
    "from langchain_chroma import Chroma\n",
    "from langchain_openai import OpenAIEmbeddings\n",
    "\n",
    "embedding_function = OpenAIEmbeddings(model=\"text-embedding-3-large\")\n",
    "\n",
    "vector_store = Chroma(\n",
    "    embedding_function=embedding_function,\n",
    "    collection_name=\"income_tax_collection\",\n",
    "    persist_directory=\"./income_tax_collection\",\n",
    ")\n",
    "retriever = vector_store.as_retriever(search_kwargs={\"k\": 3})\n",
    "from typing_extensions import List, TypedDict\n",
    "from langchain_core.documents import Document\n",
    "from langgraph.graph import StateGraph\n",
    "\n",
    "\n",
    "class AgentState(TypedDict):\n",
    "    query: str\n",
    "    context: List[Document]\n",
    "    answer: str\n",
    "\n",
    "\n",
    "graph_builder = StateGraph(AgentState)\n",
    "\n",
    "def retrieve(state: AgentState) -> AgentState:\n",
    "    \"\"\"\n",
    "    사용자의 질문에 기반하여 벡터 스토어에서 관련 문서를 검색합니다.\n",
    "\n",
    "    Args:\n",
    "        state (AgentState): 사용자의 질문을 포함한 에이전트의 현재 state.\n",
    "\n",
    "    Returns:\n",
    "        AgentState: 검색된 문서가 추가된 state를 반환합니다.\n",
    "    \"\"\"\n",
    "    query = state[\"query\"]  # state에서 사용자의 질문을 추출합니다.\n",
    "    docs = retriever.invoke(query)  # 질문과 관련된 문서를 검색합니다.\n",
    "    return {\"context\": docs}  # 검색된 문서를 포함한 state를 반환합니다.\n",
    "from langchain_openai import ChatOpenAI\n",
    "\n",
    "llm = ChatOpenAI(model=\"gpt-4o\")\n",
    "\n",
    "from langchain import hub\n",
    "\n",
    "# RAG 프롬프트를 가져옵니다.\n",
    "generate_prompt = hub.pull(\"rlm/rag-prompt\")\n",
    "\n",
    "\n",
    "def generate(state: AgentState) -> AgentState:\n",
    "    \"\"\"\n",
    "    주어진 state를 기반으로 RAG 체인을 사용하여 응답을 생성합니다.\n",
    "\n",
    "    Args:\n",
    "        state (AgentState): 사용자의 질문과 문맥을 포함한 에이전트의 현재 state.\n",
    "\n",
    "    Returns:\n",
    "        AgentState: 생성된 응답을 포함하는 state를 반환합니다.\n",
    "    \"\"\"\n",
    "    context = state[\"context\"]  # state에서 문맥을 추출합니다.\n",
    "    query = state[\"query\"]  # state에서 사용자의 질문을 추출합니다.\n",
    "\n",
    "    # RAG 체인을 구성합니다.\n",
    "    rag_chain = generate_prompt | llm\n",
    "\n",
    "    # 질문과 문맥을 사용하여 응답을 생성합니다.\n",
    "    response = rag_chain.invoke({\"question\": query, \"context\": context})\n",
    "\n",
    "    return {\"answer\": response}  # 생성된 응답을 포함하는 state를 반환합니다.\n",
    "\n",
    "from langchain import hub\n",
    "from typing import Literal\n",
    "\n",
    "# 문서 관련성 판단을 위한 프롬프트를 가져옵니다.\n",
    "doc_relevance_prompt = hub.pull(\"langchain-ai/rag-document-relevance\")\n",
    "\n",
    "\n",
    "def check_doc_relevance(state: AgentState) -> Literal[\"generate\", \"rewrite\"]:\n",
    "    \"\"\"\n",
    "    주어진 state를 기반으로 문서의 관련성을 판단합니다.\n",
    "\n",
    "    Args:\n",
    "        state (AgentState): 사용자의 질문과 문맥을 포함한 에이전트의 현재 state.\n",
    "\n",
    "    Returns:\n",
    "        Literal['generate', 'rewrite']: 문서가 관련성이 높으면 'generate', 그렇지 않으면 'rewrite'를 반환합니다.\n",
    "    \"\"\"\n",
    "    query = state[\"query\"]  # state에서 사용자의 질문을 추출합니다.\n",
    "    context = state[\"context\"]  # state에서 문맥을 추출합니다.\n",
    "\n",
    "    # 문서 관련성 판단 체인을 구성합니다.\n",
    "    doc_relevance_chain = doc_relevance_prompt | llm\n",
    "\n",
    "    # 질문과 문맥을 사용하여 문서의 관련성을 판단합니다.\n",
    "    response = doc_relevance_chain.invoke({\"question\": query, \"documents\": context})\n",
    "\n",
    "    # 관련성이 높으면 'generate'를 반환하고, 그렇지 않으면 'rewrite'를 반환합니다.\n",
    "    if response[\"Score\"] == 1:\n",
    "        return \"generate\"\n",
    "\n",
    "    return \"rewrite\"\n",
    "\n",
    "from langchain_core.prompts import PromptTemplate\n",
    "from langchain_core.output_parsers import StrOutputParser\n",
    "\n",
    "# 사전 정의: 특정 표현을 다른 표현으로 변환하기 위한 사전입니다.\n",
    "dictionary = [\"사람과 관련된 표현 -> 거주자\"]\n",
    "\n",
    "# 프롬프트 템플릿을 생성합니다. 사용자의 질문을 사전을 참고하여 변경합니다.\n",
    "rewrite_prompt = PromptTemplate.from_template(\n",
    "    f\"\"\"\n",
    "사용자의 질문을 보고, 우리의 사전을 참고해서 사용자의 질문을 변경해주세요 \n",
    "사전: {dictionary}                                           \n",
    "질문: {{query}}\n",
    "\"\"\"\n",
    ")\n",
    "\n",
    "\n",
    "def rewrite(state: AgentState) -> AgentState:\n",
    "    \"\"\"\n",
    "    사용자의 질문을 사전을 참고하여 변경합니다.\n",
    "\n",
    "    Args:\n",
    "        state (AgentState): 사용자의 질문을 포함한 에이전트의 현재 state.\n",
    "\n",
    "    Returns:\n",
    "        AgentState: 변경된 질문을 포함하는 state를 반환합니다.\n",
    "    \"\"\"\n",
    "    query = state[\"query\"]  # state에서 사용자의 질문을 추출합니다.\n",
    "\n",
    "    # 리라이트 체인을 구성합니다. 프롬프트, LLM, 출력 파서를 연결합니다.\n",
    "    rewrite_chain = rewrite_prompt | llm | StrOutputParser()\n",
    "\n",
    "    # 질문을 변경합니다.\n",
    "    response = rewrite_chain.invoke({\"query\": query})\n",
    "\n",
    "    return {\"query\": response}  # 변경된 질문을 포함하는 state를 반환합니다.\n",
    "\n",
    "graph_builder.add_node(\"retrieve\", retrieve)\n",
    "graph_builder.add_node(\"generate\", generate)\n",
    "graph_builder.add_node(\"rewrite\", rewrite)\n",
    "\n",
    "from langgraph.graph import START, END\n",
    "\n",
    "graph_builder.add_edge(START, \"retrieve\")\n",
    "graph_builder.add_conditional_edges(\"retrieve\", check_doc_relevance)\n",
    "graph_builder.add_edge(\"rewrite\", \"retrieve\")\n",
    "graph_builder.add_edge(\"generate\", END)\n"
   ]
  },
  {
   "cell_type": "code",
   "execution_count": null,
   "metadata": {},
   "outputs": [],
   "source": [
    "from langchain_pinecone import PineconeVectorStore\n",
    "from langchain_upstage import UpstageEmbeddings\n",
    "\n",
    "embedding = UpstageEmbeddings(model=\"embedding-query\")\n",
    "\n",
    "vector_store = PineconeVectorStore.from_existing_index(\n",
    "    index_name = \"income-tax\",\n",
    "    embedding=embedding\n",
    ")\n",
    "\n",
    "from typing_extensions import List, TypedDict\n",
    "from langchain_core.documents import Document\n",
    "\n",
    "class AgentState(TypedDict):\n",
    "    query: str\n",
    "    context: List[Document]\n",
    "    answer: str\n",
    "\n",
    "def retrieve(state: AgentState):\n",
    "    query = state[\"query\"]\n",
    "    retriever = vector_store.as_retriever(search_kwargs={\"k\": 4})\n",
    "    context = retriever.invoke(query)\n",
    "    return {\"context\": context}\n",
    "\n",
    "from langchain import hub\n",
    "from langchain_openai import ChatOpenAI\n",
    "\n",
    "llm = ChatOpenAI(model=\"gpt-4o\")\n",
    "generate_prompt = hub.pull(\"rlm/rag-prompt\")\n",
    "\n",
    "def generate(state: AgentState):\n",
    "    query = state[\"query\"]\n",
    "    context = state[\"context\"]\n",
    "    generate_chain = generate_prompt | llm\n",
    "    response = generate_chain.invoke({\"question\": query, \"context\": context})\n",
    "    return {\"answer\": response}\n",
    "from langchain.prompts import PromptTemplate\n",
    "from langchain_core.output_parsers import StrOutputParser\n",
    "\n",
    "dictionary = [\"사람과 관련된 표현 -> 거주자\"]\n",
    "\n",
    "rewrite_prompt = PromptTemplate.from_template(\n",
    "    f\"\"\"\n",
    "    다음 문서를 보고 질문을 알맞게 수정해주세요.\n",
    "    문서={dictionary}\n",
    "    질문={{query}}\n",
    "    \"\"\"\n",
    ")\n",
    "\n",
    "def rewrite(state:AgentState):\n",
    "    query = state[\"query\"]\n",
    "    rewrite_chain = rewrite_prompt | llm | StrOutputParser()\n",
    "    response = rewrite_chain.invoke({\"query\": query})\n",
    "    return {\"query\": response}\n",
    "\n",
    "from langchain import hub\n",
    "\n",
    "check_doc_prompt = hub.pull(\"langchain-ai/rag-document-relevance\")\n",
    "\n",
    "def check_doc_relevance(state: AgentState):\n",
    "    query = state[\"query\"]\n",
    "    documents = state[\"context\"]\n",
    "    chain = check_doc_prompt | llm\n",
    "    response = chain.invoke({\"documents\": documents,\"question\": query})\n",
    "    \n",
    "    if response[\"Score\"] == 1:\n",
    "        return \"generate\"\n",
    "\n",
    "    return \"rewrite\"\n",
    "\n",
    "from langgraph.graph import StateGraph, START, END\n",
    "\n",
    "graph_builder = StateGraph(AgentState)\n",
    "\n",
    "graph_builder.add_node(\"retrieve\", retrieve)\n",
    "graph_builder.add_node(\"generate\", generate)\n",
    "graph_builder.add_node(\"rewrite\", rewrite)\n",
    "\n",
    "graph_builder.add_edge(START, \"retrieve\")\n",
    "graph_builder.add_conditional_edges(\"retrieve\", check_doc_relevance)\n",
    "graph_builder.add_edge(\"rewrite\", \"retrieve\")\n",
    "graph_builder.add_edge(\"generate\", END)"
   ]
  }
 ],
 "metadata": {
  "kernelspec": {
   "display_name": ".venv",
   "language": "python",
   "name": "python3"
  },
  "language_info": {
   "codemirror_mode": {
    "name": "ipython",
    "version": 3
   },
   "file_extension": ".py",
   "mimetype": "text/x-python",
   "name": "python",
   "nbconvert_exporter": "python",
   "pygments_lexer": "ipython3",
   "version": "3.12.4"
  }
 },
 "nbformat": 4,
 "nbformat_minor": 2
}
