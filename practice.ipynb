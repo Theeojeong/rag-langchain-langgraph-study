{
 "cells": [
  {
   "cell_type": "code",
   "execution_count": 1,
   "id": "03bb753e",
   "metadata": {},
   "outputs": [],
   "source": [
    "# C:\\dev2\\AI_Agent\\real_estate_tax_graph_jh.py\n",
    "# C:\\dev2\\AI_Agent\\income_tax_graph_jh.py"
   ]
  },
  {
   "cell_type": "code",
   "execution_count": 2,
   "id": "ac21cc3b",
   "metadata": {},
   "outputs": [],
   "source": [
    "from typing_extensions import TypedDict\n",
    "\n",
    "class AgentState(TypedDict):\n",
    "    query: str\n",
    "    answer: str\n",
    "    context: list"
   ]
  },
  {
   "cell_type": "code",
   "execution_count": 3,
   "id": "4e0de767",
   "metadata": {},
   "outputs": [],
   "source": [
    "from langchain_openai import ChatOpenAI\n",
    "\n",
    "llm = ChatOpenAI(model=\"gpt-4o\")"
   ]
  },
  {
   "cell_type": "code",
   "execution_count": 4,
   "id": "189d73e8",
   "metadata": {},
   "outputs": [],
   "source": [
    "from langchain_core.prompts import ChatPromptTemplate\n",
    "from typing_extensions import Literal\n",
    "from pydantic import BaseModel, Field\n",
    "\n",
    "class Route(BaseModel):\n",
    "    target: Literal[\"real_estate_tax\", \"llm\", \"income_tax\"] = Field(description = \"\"\"\n",
    "    당신은 사용자의 질문을 보고 적절한 라우터를 연결해주는 전문가입니다.\n",
    "    부동산에 관련된 질문은 real_estate_tax_graph라우터를, 소득세에 관한 질문은 income_tax라우터를, 그 외의 질문은 llm 라우터로 연결해주세요. \n",
    "    \"\"\")\n",
    "\n",
    "def router(state: AgentState):\n",
    "    query = state[\"query\"]\n",
    "    router_llm = llm.with_structured_output(Route)\n",
    "\n",
    "    response = router_llm.invoke(query)\n",
    "\n",
    "    return response.target"
   ]
  },
  {
   "cell_type": "code",
   "execution_count": 5,
   "id": "0dd27b5c",
   "metadata": {},
   "outputs": [],
   "source": [
    "def basic_llm(state: AgentState):\n",
    "    query = state[\"query\"]\n",
    "    response = llm.invoke(query)\n",
    "    return {\"answer\": response}"
   ]
  },
  {
   "cell_type": "code",
   "execution_count": 7,
   "id": "89b5d57e",
   "metadata": {},
   "outputs": [],
   "source": [
    "from langgraph.graph import StateGraph, END, START\n",
    "\n",
    "builder_graph = StateGraph(AgentState)"
   ]
  },
  {
   "cell_type": "code",
   "execution_count": 8,
   "id": "0e5d3427",
   "metadata": {},
   "outputs": [
    {
     "name": "stderr",
     "output_type": "stream",
     "text": [
      "c:\\dev2\\AI_Agent\\.venv\\Lib\\site-packages\\tqdm\\auto.py:21: TqdmWarning: IProgress not found. Please update jupyter and ipywidgets. See https://ipywidgets.readthedocs.io/en/stable/user_install.html\n",
      "  from .autonotebook import tqdm as notebook_tqdm\n",
      "c:\\dev2\\AI_Agent\\real_estate_tax_graph_jh.py:109: LangChainDeprecationWarning: The class `TavilySearchResults` was deprecated in LangChain 0.3.25 and will be removed in 1.0. An updated version of the class exists in the :class:`~langchain-tavily package and should be used instead. To use it run `pip install -U :class:`~langchain-tavily` and import as `from :class:`~langchain_tavily import TavilySearch``.\n",
      "  tavily_search_tool = TavilySearchResults(\n"
     ]
    },
    {
     "data": {
      "text/plain": [
       "<langgraph.graph.state.StateGraph at 0x19a5663b470>"
      ]
     },
     "execution_count": 8,
     "metadata": {},
     "output_type": "execute_result"
    }
   ],
   "source": [
    "from income_tax_graph_jh import graph as income_tax_graph\n",
    "from real_estate_tax_graph_jh import graph as real_estate_tax_graph\n",
    "\n",
    "builder_graph.add_node(\"basic_llm\", basic_llm)\n",
    "builder_graph.add_node(\"income_tax_graph\", income_tax_graph)\n",
    "builder_graph.add_node(\"real_estate_tax_graph\", real_estate_tax_graph)"
   ]
  },
  {
   "cell_type": "code",
   "execution_count": null,
   "id": "f352bb2e",
   "metadata": {},
   "outputs": [
    {
     "data": {
      "text/plain": [
       "{'basic_llm': StateNodeSpec(runnable=basic_llm(tags=None, recurse=True, explode_args=False, func_accepts={}), metadata=None, input_schema=<class '__main__.AgentState'>, retry_policy=None, cache_policy=None, ends=(), defer=False),\n",
       " 'income_tax_graph': StateNodeSpec(runnable=<langgraph.graph.state.CompiledStateGraph object at 0x0000022DABCA5910>, metadata=None, input_schema=<class '__main__.AgentState'>, retry_policy=None, cache_policy=None, ends=(), defer=False),\n",
       " 'real_estate_tax_graph': StateNodeSpec(runnable=<langgraph.graph.state.CompiledStateGraph object at 0x0000022DABF2AE40>, metadata=None, input_schema=<class '__main__.AgentState'>, retry_policy=None, cache_policy=None, ends=(), defer=False)}"
      ]
     },
     "execution_count": 22,
     "metadata": {},
     "output_type": "execute_result"
    }
   ],
   "source": [
    "builder_graph.nodes"
   ]
  },
  {
   "cell_type": "code",
   "execution_count": 9,
   "id": "e95f36f2",
   "metadata": {},
   "outputs": [
    {
     "data": {
      "text/plain": [
       "<langgraph.graph.state.StateGraph at 0x19a5663b470>"
      ]
     },
     "execution_count": 9,
     "metadata": {},
     "output_type": "execute_result"
    }
   ],
   "source": [
    "builder_graph.add_conditional_edges(START, router, \n",
    "{\n",
    "    \"llm\": \"basic_llm\",\n",
    "    \"real_estate_tax\": \"real_estate_tax_graph\",\n",
    "    \"income_tax\": \"income_tax_graph\"\n",
    "    })\n",
    "\n",
    "builder_graph.add_edge(\"basic_llm\", END)\n",
    "builder_graph.add_edge(\"income_tax_graph\", END)\n",
    "builder_graph.add_edge(\"real_estate_tax_graph\", END)"
   ]
  },
  {
   "cell_type": "code",
   "execution_count": 10,
   "id": "411948d2",
   "metadata": {},
   "outputs": [
    {
     "data": {
      "image/png": "[encoded data removed]",
      "text/plain": [
       "<langgraph.graph.state.CompiledStateGraph object at 0x0000019A0017B1D0>"
      ]
     },
     "execution_count": 10,
     "metadata": {},
     "output_type": "execute_result"
    }
   ],
   "source": [
    "builder_graph.compile()"
   ]
  },
  {
   "cell_type": "code",
   "execution_count": 11,
   "id": "86e85fe2",
   "metadata": {},
   "outputs": [],
   "source": [
    "graph = builder_graph.compile()"
   ]
  },
  {
   "cell_type": "code",
   "execution_count": 12,
   "id": "320e3e5a",
   "metadata": {},
   "outputs": [
    {
     "data": {
      "text/plain": [
       "{'query': '소득세란 무엇인가요?',\n",
       " 'answer': '소득세는 개인의 소득에 대해 소득의 성격과 납세자의 부담 능력 등을 고려하여 과세하는 세금으로, 세부담의 형평성과 재정수입의 원활한 조달을 목적으로 합니다. 소득의 종류에는 이자소득, 배당소득, 사업소득, 근로소득, 연금소득 및 기타 소득 등이 포함됩니다. 거주자와 비거주자의 소득에 따라 과세 규정이 다르게 적용됩니다.',\n",
       " 'context': [Document(id='dca8256b-c014-4be5-a128-c5c8d28993d6', metadata={'source': 'C:\\\\dev2\\\\AI_Agent\\\\수업\\\\LangGraph를 활용한 AI Agent 개발(feat.MCP)\\\\Practice\\\\output_test\\\\income_tax.txt'}, page_content='소득세법\\n[시행 2025. 1. 1.] [법률 제20615호, 2024. 12. 31., 일부개정]\\n기획재정부 (세제개편과(소득세)) 044-215-4312\\n기획재정부 (소득세세제과(법인세)) 044-215-4216\\n기획재정부 (음식세제과(아이슨소득)) 044-215-4233\\n기획재정부 (소득세제과(사업소득, 기타소득)) 044-215-4217\\n제1장 총칙\\n제1조(목적)\\n이 법은 개인의 소득에 대하여 소득의 성격과 납세자의 부담능력 등에 따라 적정하게 과세함으로써 세부담의 형평을 도모하고 재정수입의 원활한 조달에 이바지함을 목적으로 한다.\\n[본조신설 2009. 12. 31.]\\n[종전 제1조는 제2조로 이동 <2009. 12. 31.>]\\n제2조(정의)\\n① 이 법에서 사용하는 용어의 뜻은 다음과 같다. <개정 2010. 12. 27., 2014. 12. 23., 2018. 12. 31.>\\n1. \"거주자\"란 국내에 주소를 두거나 183일 이상 거소(居所)를 둔 개인을 말한다.\\n2. \"비거주자\"란 거주자가 아닌 개인을 말한다.\\n3. \"국내법인\"이란 법인세법 제2조제1호에 따른 내국법인을 말한다.\\n4. \"외국법인\"이란 법인세법 제2조제3호에 따른 외국법인을 말한다.\\n5. \"사업자\"란 사업소득이 있는 거주자를 말한다.\\n② 제1항에 따른 소득・가산소득・비과세자·소득의 구분은 대통령령으로 정한다.\\n[본조신설 2009. 12. 31.]\\n제3조(납세의무)\\n다음 각 호의 하나에 해당하는 개인은 이 법에 따라 각자의 소득에 대한 소득세를 납부할 의무를 진다.\\n1. 거주자\\n2. 비거주자로서 국내원천소득(國內源泉所得)이 있는 개인\\n3. 다음 각 호의 어느 하나에 해당하는 자는 이 법에 따라 원천징수한 소득세를 납부할 의무를 진다.\\n1. 거주자\\n2. 비거주자\\n3. 납세의무자\\n4. 외국법인의 국내사업장(출처소, 그 밖에 이에 준하는 것을 포함한다. 이하 같다)\\n5. 그 밖에 이 법에 의해 정하는 원천징수의무자\\n③ \"국세기본법 제32조제1항에 따른 법인은 본 법이 아닌 단체 같은 제1호에 따른 법인으로 보는 단체\"(이하 \"법인은 본 법인을 포함한다\"라고 한다) 외의 법인 이란 단체는 국내에 주사무소 또는 사업의 실제 관장소를 두는 경우에는 1거주자로 본다.<개정 2010. 12. 27., 2013. 1. 1., 2018. 12. 31.>\\n이 법 각 호의 어느 하나에 해당하는 경우에는 소득세를 부과할 때는 법인세법 제1조에 의한 법인이나 소득세 모델을 한정하고 이에 조세에 대한 납부할 의무를 진다.<신설 2018. 12. 31.>\\n소득세법'),\n",
       "  Document(id='fff08e74-b7dd-4a76-931d-72d2a1cc061d', metadata={'source': 'C:\\\\dev2\\\\AI_Agent\\\\수업\\\\LangGraph를 활용한 AI Agent 개발(feat.MCP)\\\\Practice\\\\output_test\\\\income_tax.txt'}, page_content='제22조(단설의무의 법칙)\\n① 제43조에 따른 공동사업에 관한 소득세의 계산하는 경우에는 해당 공동사업자별로 납세의무를 진다. 단, 제43조제3항에 따른 주요 공동사업자(이하 \"주된 공동사업자\"라 한다)가 합산과세 되는 경우에 한하지 아니하며 소득세에 대해서는 주된 공동사업자와 면세의무를 진다. <개정> 2012. 1. 1, 2013. 1. 1.>\\n② 제44조에 따라 피숙의의 소득금액에 대해서는 그 상속인의 면세의무를 진다.\\n   - 제10조제1항각 자료에서 직접 양도할 것으로 보는 경우 그 양도소득에 대해서 증여할 중여한 자와 함께 그 면세의무를 진다. <개정> 2020. 12. 29.>\\n③ 제127조에 따라 원천징수하는 소득으로 제14조제1항 또는 별령에 따라 제14조제2항에 따른 소득과세에 해당하지 아니하는 소득이 있는 자는 원천징수하는 소득에서 면세의무를 진다. <개정> 2020. 12. 29.>\\n제23조(신탁재산 귀속 소득에 대한 납세의무의 법칙)\\n① 신탁재산에 귀속되는 소득은 그 신탁의 이익을 받을 수익자(수익자가 사용되는 경우에는 그 상속인에게 귀속되는 것으로 본다.\\n   - 제18조의 불구하고 위탁자 신탁재산을 실질적으로 통해 등 대등행위로 정하는 요건을 충족하는 신탁의 경우에는 그 신탁에 귀속되는 소득은 위탁자에게 귀속되는 것으로 본다. <개정> 2023. 12. 31.>\\n   - [본조신설 2023. 12. 29.]\\n제30조(과세소득의 법칙)\\n① 거주자에게 이 법에서 정하는 모든 소득에 대해서 과세한다. 단, 법인에 관해서는 중요한 연도 10년 전부터 국내에 주소를 둔 개인의 합계가 동일 외국인 거주자에게 과세되는 소득 국외에서 발생한 소득의 경우 국내내에서 지급되거나 국가로 발생한 소득에 대해서만 과세한다.\\n   - 비거주자에 대해서는 제119조의2에 따른 국내원천소득에 대해서만 과세한다.\\n   - 제18조 및 제21항을 적용하는 경우 \"조세특례제한법\" 제100조제14조의2의 동영자에게는 같은 법 제100조의18제1항에 따라 배분받는 소득 및 같은 법 제100조의2제21항에 따른 분배법인 시자 중 분배법인의 지분을 초과하여 발생하는 소득에 대해서 과세한다. <전문개정 2009. 12. 31.>\\n제42조(소득의 구분)\\n\\n종합소득\\n이 법에 따라 과세되는 모든 소득에서 제2조 및 제3조에 따른 소득으로 제1항의 소득으로 다음 각 목의 소득을 포함한 것\\n\\n소득세법\\n가. 이자소득\\n나. 배당소득\\n다. 사업소득\\n라. 근로소득\\n마. 연금소득\\n바. 기타소득  \\n\\n퇴직소득\\n2의2. 삭제 <2024. 12. 31.>'),\n",
       "  Document(id='a603d682-6c53-454e-ada5-066e0e8dfdfe', metadata={'source': 'C:\\\\dev2\\\\AI_Agent\\\\수업\\\\LangGraph를 활용한 AI Agent 개발(feat.MCP)\\\\Practice\\\\output_test\\\\income_tax.txt'}, page_content='소득세법\\n가. 이자소득\\n나. 배당소득\\n다. 사업소득\\n라. 근로소득\\n마. 연금소득\\n바. 기타소득  \\n\\n퇴직소득\\n2의2. 삭제 <2024. 12. 31.>  \\n\\n양도소득\\n② 제1항에 따른 소득을 구분할 때 다음 각 호의 신탁을 제외한 신탁의 이익은 「신탁법」 제2조에 따라 수탁자에게 이전되거나 그 밖에 처분된 재산관계에서 발생하는 소득의 내용별로 구분한다. <개정 2011. 7. 25, 2020. 12. 29, 2022. 12. 31, 2024. 12. 31.>  \\n\\n\\n‘탑신립법’ 제5조제2항에 따라 신탁재산에 귀속되는 소득에 대하여 그 신탁자의 수탁자가 법인세를 납부하는 신탁  \\n\\n‘자본시장과 금융투자업에 관한 법률’ 제9조제18항제1호에 따른 투자신탁(제17조제1항제5호에 따른 집합투자기구를 포함한다)  \\n‘자본시장과 금융투자업에 관한 법률’ 제251조제1항에 따른 집합투자업자겸영보험회사의 특별계정\\n3) 비거주자의 소득은 제119조에 따라 구분한다.  \\n\\n제45조(소득의 구분)\\n① 거주자의 소득은 다음 각 호의 계열이 구분된다. <개정 2013. 1. 1, 2020. 12. 29, 2022. 12. 31.>\\n1. 종합소득\\n이 법에 따라 과세되는 모든 소득에 대해서는 제2조 및 제3조에 따른 소득으로서 다음 각 목의 소득을 합산한 것\\n가. 이자소득\\n나. 배당소득\\n다. 사업소득\\n라. 근로소득\\n마. 연금소득\\n바. 기타소득  \\n\\n퇴직소득\\n2의2. 삭제 <2024. 12. 31.>  \\n양도소득\\n② 제1항에 따른 소득을 구분할 때 다음 각 호의 신탁을 제외한 신탁의 이익은 「신탁법」 제2조에 따라 수탁자에게 이전되거나 그 밖에 처분된 재산관계에서 발생하는 소득의 내용별로 구분한다. <개정 2011. 7. 25, 2020. 12. 29, 2022. 12. 31, 2024. 12. 31.>  \\n제17조제1항제5호에 따른 수익금의 방법별 신탁\\n③ 비거주자의 소득은 제119조에 따라 구분한다.')]}"
      ]
     },
     "execution_count": 12,
     "metadata": {},
     "output_type": "execute_result"
    }
   ],
   "source": [
    "initial_state = {\"query\": \"소득세란 무엇인가요?\"}\n",
    "graph.invoke(initial_state)"
   ]
  },
  {
   "cell_type": "code",
   "execution_count": 13,
   "id": "5299ffe5",
   "metadata": {},
   "outputs": [
    {
     "data": {
      "text/plain": [
       "{'query': '집 15억은 세금을 얼마나 내나요?',\n",
       " 'answer': '주택의 공시가격이 15억 원이고, 사용자가 소지한 주택 수에 따라 종합부동산세를 계산해보겠습니다. 갑의 경우를 고려해보겠습니다.\\n\\n### 1. 만약 사용자가 1세대 1주택자인 경우:\\n\\n- 과세표준: 1.8억 원\\n  - 세율: 1천분의 5\\n  - 종합부동산세 = 1.8억 원 × 0.5% = 90만 원\\n\\n### 2. 만약 사용자가 법인이나 법인으로 간주되는 단체인 경우:\\n\\n- 과세표준: 5.4억 원\\n  - 주택 수에 관계없이 1천분의 27\\n  - 종합부동산세 = 5.4억 원 × 2.7% = 1,458만 원\\n\\n### 3. 그 외의 경우(예: 다주택자):\\n\\n- 과세표준: 3.6억 원\\n  - 세율:\\n    - 3억 원 초과 6억 원 이하: 150만 원 + (3억 원을 초과하는 금액의 1천분의 7)\\n  - 추가 금액 = (3.6억 원 - 3억 원) × 0.7% = 0.6억 원 × 0.7% = 42만 원\\n  - 종합부동산세 = 150만 원 + 42만 원 = 192만 원\\n\\n이러한 경우 중 사용자가 해당되는 항목에 따라 종합부동산세가 배정됩니다. gereken durumuna göre kullanıcı kendisi için uygun olan sonucu hesaplamalıdır.'}"
      ]
     },
     "execution_count": 13,
     "metadata": {},
     "output_type": "execute_result"
    }
   ],
   "source": [
    "initial_state = {\"query\": \"집 15억은 세금을 얼마나 내나요?\"}\n",
    "\n",
    "graph.invoke(initial_state)"
   ]
  },
  {
   "cell_type": "code",
   "execution_count": null,
   "id": "ef9aa7dd",
   "metadata": {},
   "outputs": [],
   "source": [
    "initial_state = {\"query\": \"떡볶이는 어디가 맛있나요?\"}\n",
    "graph.invoke(initial_state)"
   ]
  }
 ],
 "metadata": {
  "kernelspec": {
   "display_name": ".venv",
   "language": "python",
   "name": "python3"
  },
  "language_info": {
   "codemirror_mode": {
    "name": "ipython",
    "version": 3
   },
   "file_extension": ".py",
   "mimetype": "text/x-python",
   "name": "python",
   "nbconvert_exporter": "python",
   "pygments_lexer": "ipython3",
   "version": "3.12.4"
  }
 },
 "nbformat": 4,
 "nbformat_minor": 5
}
