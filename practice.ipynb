{
 "cells": [
  {
   "cell_type": "markdown",
   "id": "9f44439e",
   "metadata": {},
   "source": [
    "tool_list =  \n",
    "(\n",
    "    [add, multiply, search_tool, retriever_tool]  \n",
    "     + gmail_tool_list + loaded_tool_list\n",
    ")"
   ]
  },
  {
   "cell_type": "markdown",
   "id": "ebcef3cf",
   "metadata": {},
   "source": [
    "* from langgraph.checkpoint.memory import MemorySaver\n",
    "* DuckDuckGoSearchRun\n",
    "* from langchain.agents import load_tools\n",
    "* create_retriever_tool\n",
    "* ToolNode"
   ]
  },
  {
   "cell_type": "markdown",
   "id": "c48d1a79",
   "metadata": {},
   "source": [
    "### make tools"
   ]
  },
  {
   "cell_type": "code",
   "execution_count": 1,
   "id": "a32c96d1",
   "metadata": {},
   "outputs": [],
   "source": [
    "# web 검색 tool\n",
    "\n",
    "from langchain_community.tools import DuckDuckGoSearchResults\n",
    "\n",
    "search_tool = DuckDuckGoSearchResults()"
   ]
  },
  {
   "cell_type": "code",
   "execution_count": 2,
   "id": "88c483cf",
   "metadata": {},
   "outputs": [],
   "source": [
    "# 논문 검색 tool\n",
    "\n",
    "from langchain.agents import load_tools\n",
    "\n",
    "loaded_tool_list = load_tools(['arxiv'])"
   ]
  },
  {
   "cell_type": "code",
   "execution_count": 3,
   "id": "4c16ba7f",
   "metadata": {},
   "outputs": [],
   "source": [
    "# 부동산법 retirever tool\n",
    "\n",
    "from langchain_upstage import UpstageEmbeddings\n",
    "from langchain_pinecone import PineconeVectorStore\n",
    "from langchain_core.tools.retriever import create_retriever_tool\n",
    "\n",
    "embedding = UpstageEmbeddings(model=\"embedding-query\")\n",
    "\n",
    "vector_store = PineconeVectorStore(\n",
    "    embedding=embedding,\n",
    "    index_name='real-estate'\n",
    "    )\n",
    "\n",
    "retriever = vector_store.as_retriever(search_kwargs={'k': 3})\n",
    "\n",
    "retriever_tool = create_retriever_tool(\n",
    "    retriever=retriever,\n",
    "    name=\"real_estate_tax_retriever\",\n",
    "    description=\"Contains information about real estate tax up to December 2024\"\n",
    ")"
   ]
  },
  {
   "cell_type": "code",
   "execution_count": 4,
   "id": "62bf5a18",
   "metadata": {},
   "outputs": [],
   "source": [
    "# 더하기 & 곱하기 tool\n",
    "\n",
    "from langchain_core.tools import tool\n",
    "\n",
    "@tool\n",
    "def add(a: int, b: int):\n",
    "    \"\"\"a와 b를 더하는 함수\"\"\"\n",
    "    return a + b\n",
    "\n",
    "@ tool\n",
    "def multiply(a: int, b: int):\n",
    "    \"\"\"a와 b를 곱하는 함수\"\"\"\n",
    "    return a * b"
   ]
  },
  {
   "cell_type": "code",
   "execution_count": 5,
   "id": "f343dbd4",
   "metadata": {},
   "outputs": [],
   "source": [
    "# gmail tool\n",
    "from langchain_google_community import GmailToolkit\n",
    "\n",
    "from langchain_google_community.gmail.utils import (\n",
    "    build_resource_service,\n",
    "    get_gmail_credentials,\n",
    ")\n",
    "\n",
    "# Can review scopes here https://developers.google.com/gmail/api/auth/scopes\n",
    "# For instance, readonly scope is 'https://www.googleapis.com/auth/gmail.readonly'\n",
    "credentials = get_gmail_credentials( # -> 자격\n",
    "    token_file=\"google/token.json\",\n",
    "    scopes=[\"https://mail.google.com/\"],\n",
    "    client_secrets_file=\"google/credentials.json\",\n",
    ")\n",
    "api_resource = build_resource_service(credentials=credentials)\n",
    "gmail_toolkit = GmailToolkit(api_resource=api_resource)\n",
    "gmail_tool_list = gmail_toolkit.get_tools()"
   ]
  },
  {
   "cell_type": "code",
   "execution_count": 6,
   "id": "ef3ba647",
   "metadata": {},
   "outputs": [],
   "source": [
    "from langgraph.prebuilt import ToolNode\n",
    "from langchain_openai import ChatOpenAI\n",
    "\n",
    "tool_list = [search_tool, add, multiply, retriever_tool] + gmail_tool_list + loaded_tool_list\n",
    "\n",
    "llm = ChatOpenAI(model=\"gpt-4o\")\n",
    "\n",
    "llm_with_tools = llm.bind_tools(tool_list)\n",
    "\n",
    "tool_node = ToolNode(tool_list)"
   ]
  },
  {
   "cell_type": "markdown",
   "id": "8bf8e20c",
   "metadata": {},
   "source": [
    "### make state"
   ]
  },
  {
   "cell_type": "code",
   "execution_count": 7,
   "id": "0a3f130c",
   "metadata": {},
   "outputs": [],
   "source": [
    "from langgraph.graph import StateGraph, MessagesState\n",
    "\n",
    "class State(MessagesState):\n",
    "    summary: str\n",
    "\n",
    "graph_builder = StateGraph(State)"
   ]
  },
  {
   "cell_type": "markdown",
   "id": "938703f3",
   "metadata": {},
   "source": [
    "### make node"
   ]
  },
  {
   "cell_type": "code",
   "execution_count": 8,
   "id": "30be6992",
   "metadata": {},
   "outputs": [],
   "source": [
    "from langchain_core.messages import SystemMessage\n",
    "\n",
    "def agent(state: State) -> State:\n",
    "    \"\"\"llm_with_tools로 생성한 ai_message를 return하는 노드\"\"\"\n",
    "\n",
    "    messages = state[\"messages\"]\n",
    "    summary = state[\"summary\"]\n",
    "\n",
    "    if summary != \"\":\n",
    "        messages = [SystemMessage(content=f\"\"\"이전 메세지의 요약을 참고해주세요. \n",
    "        이전 메세지: {summary}\"\"\")] + messages\n",
    "\n",
    "    resposne = llm_with_tools.invoke(messages)\n",
    "\n",
    "    return {\"messages\": resposne}"
   ]
  },
  {
   "cell_type": "code",
   "execution_count": 9,
   "id": "9299c790",
   "metadata": {},
   "outputs": [],
   "source": [
    "from langgraph.types import interrupt, Command\n",
    "from typing import Literal\n",
    "\n",
    "def human_review(state: State) -> Command[Literal[\"agent\", \"tool_node\"]]:\n",
    "\n",
    "    messages = state[\"messages\"]\n",
    "    last_messages = messages[-1]\n",
    "\n",
    "    tool_call = last_messages.tool_calls[-1]\n",
    "\n",
    "    human_review = interrupt(\n",
    "        {\"question\": \"이렇게 진행하면 될까요?\", \"tool_calls\": tool_call}\n",
    "    )\n",
    "\n",
    "    review_action = human_review[\"action\"]\n",
    "    review_data = human_review.get(\"data\", None)\n",
    "\n",
    "    if review_action == \"continue\":\n",
    "        return Command(goto=\"tool_node\")\n",
    "\n",
    "    if review_action == \"update_args\":\n",
    "        # -> tool은 마음에 들지만 args가 마음에 안드는 경우\n",
    "        # aimessage를 update해서 toolnode로 보낸다\n",
    "        updated_message = {\n",
    "            \"content\": last_messages.content,\n",
    "            \"role\": \"ai\",\n",
    "            \"id\": last_messages.id,\n",
    "            \"tool_calls\": [\n",
    "                {\n",
    "                'name': tool_call['name'],\n",
    "                'args': review_data,\n",
    "                'id': tool_call['id']\n",
    "                }\n",
    "            ]\n",
    "        }        \n",
    "        return Command(goto=\"tool_node\", update={\"messages\": [updated_message]})\n",
    "\n",
    "    if review_action == \"update_tool\":\n",
    "        # -> tool이 마음에 안드는 경우\n",
    "        # -> tool_call_id을 바꾸지는 못하고 content에 특정 tool을 사용해라 명시\n",
    "        # -> 다시 agent로 보내어서 aimessage 생성(최종)\n",
    "        updated_message = {\n",
    "            \"content\": review_data,\n",
    "            \"name\": tool_call[\"name\"],\n",
    "            \"tool_call_id\": tool_call['id'],\n",
    "            \"role\": \"tool\"\n",
    "        }\n",
    "        return Command(goto=\"agent\", update={\"messages\": [updated_message]})"
   ]
  },
  {
   "cell_type": "code",
   "execution_count": 10,
   "id": "eb6d5d96",
   "metadata": {},
   "outputs": [],
   "source": [
    "def summarize_message(state: State):\n",
    "\n",
    "    messages = state['messages']\n",
    "    summary = state['summary']\n",
    "\n",
    "    summarize_prompt = f\"\"\"\n",
    "    다음 메세지들을 요약해주세요. 메세지 목록:{messages}\n",
    "    \"\"\"\n",
    "\n",
    "    if summary != \"\":\n",
    "        summarize_prompt = f\"\"\"\n",
    "        이전 메세지의 요약을 포함하여 다음 메세지들을 요약해주세요.\n",
    "        이전 메세지 요약:{summary},\n",
    "        다음 메세지:{messages}\n",
    "        \"\"\"\n",
    "\n",
    "    response = llm.invoke(summarize_prompt)\n",
    "\n",
    "    return {\"summary\": response.content}"
   ]
  },
  {
   "cell_type": "code",
   "execution_count": 11,
   "id": "7bee4bec",
   "metadata": {},
   "outputs": [],
   "source": [
    "from langchain_core.messages import RemoveMessage\n",
    "\n",
    "def delete_message(state: State):\n",
    "\n",
    "    messages = state[\"messages\"]\n",
    "\n",
    "    response = [RemoveMessage(id=message.id) for message in messages[:-3]]\n",
    "\n",
    "    return {\"messages\": response}"
   ]
  },
  {
   "cell_type": "code",
   "execution_count": 12,
   "id": "a1ffe703",
   "metadata": {},
   "outputs": [],
   "source": [
    "from typing_extensions import Literal\n",
    "\n",
    "def should_continue(state: State) -> Literal['human_review', 'summarize_message']:\n",
    "\n",
    "    messages = state[\"messages\"]\n",
    "    last_messages = messages[-1]\n",
    "\n",
    "    if last_messages.tool_calls:\n",
    "        return \"human_review\"\n",
    "\n",
    "    return \"summarize_message\""
   ]
  },
  {
   "cell_type": "markdown",
   "id": "a349bfcd",
   "metadata": {},
   "source": [
    "### make graph"
   ]
  },
  {
   "cell_type": "code",
   "execution_count": 13,
   "id": "add5eaf4",
   "metadata": {},
   "outputs": [
    {
     "data": {
      "text/plain": [
       "<langgraph.graph.state.StateGraph at 0x20093063410>"
      ]
     },
     "execution_count": 13,
     "metadata": {},
     "output_type": "execute_result"
    }
   ],
   "source": [
    "from langgraph import graph\n",
    "\n",
    "\n",
    "graph_builder.add_node(\"tool_node\", tool_node)\n",
    "graph_builder.add_node(\"agent\", agent)\n",
    "graph_builder.add_node(summarize_message)\n",
    "graph_builder.add_node(human_review)\n",
    "graph_builder.add_node(delete_message)"
   ]
  },
  {
   "cell_type": "code",
   "execution_count": 14,
   "id": "c95d934b",
   "metadata": {},
   "outputs": [
    {
     "data": {
      "text/plain": [
       "<langgraph.graph.state.StateGraph at 0x20093063410>"
      ]
     },
     "execution_count": 14,
     "metadata": {},
     "output_type": "execute_result"
    }
   ],
   "source": [
    "from langgraph import graph\n",
    "from langgraph.graph import START, END \n",
    "\n",
    "graph_builder.add_edge(START, \"agent\")\n",
    "graph_builder.add_conditional_edges(\"agent\", should_continue, \n",
    "{\n",
    "    \"human_review\": \"human_review\", \n",
    "    \"summarize_message\": \"summarize_message\"\n",
    "    }\n",
    ")\n",
    "graph_builder.add_edge(\"tool_node\", \"agent\")\n",
    "graph_builder.add_edge(\"summarize_message\", \"delete_message\")\n",
    "graph_builder.add_edge(\"delete_message\", END)"
   ]
  },
  {
   "cell_type": "code",
   "execution_count": 15,
   "id": "000f8813",
   "metadata": {},
   "outputs": [
    {
     "data": {
      "image/png": "[encoded data removed]",
      "text/plain": [
       "<langgraph.graph.state.CompiledStateGraph object at 0x00000200930F89E0>"
      ]
     },
     "execution_count": 15,
     "metadata": {},
     "output_type": "execute_result"
    }
   ],
   "source": [
    "from langgraph.checkpoint.memory import MemorySaver \n",
    "\n",
    "checkpointer = MemorySaver()\n",
    "\n",
    "graph_builder.compile(checkpointer=checkpointer)"
   ]
  },
  {
   "cell_type": "code",
   "execution_count": 16,
   "id": "5734ae47",
   "metadata": {},
   "outputs": [],
   "source": [
    "graph = graph_builder.compile(checkpointer=checkpointer)"
   ]
  },
  {
   "cell_type": "code",
   "execution_count": 17,
   "id": "b2b3c2b1",
   "metadata": {},
   "outputs": [
    {
     "name": "stdout",
     "output_type": "stream",
     "text": [
      "================================\u001b[1m Human Message \u001b[0m=================================\n",
      "\n",
      "LLM Survey 논문의 내용을 검색해서 요약해주세요\n",
      "==================================\u001b[1m Ai Message \u001b[0m==================================\n",
      "Tool Calls:\n",
      "  arxiv (call_JZLUfDP98mb9SK11A03US3bk)\n",
      " Call ID: call_JZLUfDP98mb9SK11A03US3bk\n",
      "  Args:\n",
      "    query: LLM Survey\n"
     ]
    }
   ],
   "source": [
    "from langchain_core.messages import HumanMessage\n",
    "\n",
    "config = {\"configurable\": {\"thread_id\": \"llm_paper\"}}\n",
    "\n",
    "query = \"LLM Survey 논문의 내용을 검색해서 요약해주세요\"\n",
    "\n",
    "initial_state = {\"messages\": [HumanMessage(query)], \"summary\": \"\"}\n",
    "\n",
    "for chunk in graph.stream(\n",
    "    config=config,\n",
    "    input=initial_state,\n",
    "    stream_mode=\"values\"\n",
    "):\n",
    "    \n",
    "    chunk['messages'][-1].pretty_print()"
   ]
  },
  {
   "cell_type": "code",
   "execution_count": null,
   "id": "1ac93c68",
   "metadata": {},
   "outputs": [
    {
     "name": "stdout",
     "output_type": "stream",
     "text": [
      "{'human_review': None}\n",
      "{'tool_node': {'messages': [ToolMessage(content=\"Published: 2025-04-13\\nTitle: From LLMs to LLM-based Agents for Software Engineering: A Survey of Current, Challenges and Future\\nAuthors: Haolin Jin, Linghan Huang, Haipeng Cai, Jun Yan, Bo Li, Huaming Chen\\nSummary: With the rise of large language models (LLMs), researchers are increasingly\\nexploring their applications in var ious vertical domains, such as software\\nengineering. LLMs have achieved remarkable success in areas including code\\ngeneration and vulnerability detection. However, they also exhibit numerous\\nlimitations and shortcomings. LLM-based agents, a novel tech nology with the\\npotential for Artificial General Intelligence (AGI), combine LLMs as the core\\nfor decision-making and action-taking, addressing some of the inherent\\nlimitations of LLMs such as lack of autonomy and self-improvement. Despite\\nnumerous studies and surveys exploring the possibility of using LLMs in\\nsoftware engineering, it lacks a clear distinction between LLMs and LLM based\\nagents. It is still in its early stage for a unified standard and benchmarking\\nto qualify an LLM solution as an LLM-based agent in its domain. In this survey,\\nwe broadly investigate the current practice and solutions for LLMs and\\nLLM-based agents for software engineering. In particular we summarise six key\\ntopics: requirement engineering, code generation, autonomous decision-making,\\nsoftware design, test generation, and software maintenance. We review and\\ndifferentiate the work of LLMs and LLM-based agents from these six topics,\\nexamining their differences and similarities in tasks, benchmarks, and\\nevaluation metrics. Finally, we discuss the models and benchmarks used,\\nproviding a comprehensive analysis of their applications and effectiveness in\\nsoftware engineering. We anticipate this work will shed some lights on pushing\\nthe boundaries of LLM-based agents in software engineering for future research.\\n\\nPublished: 2025-02-24\\nTitle: Language Model Fine-Tuning on Scaled Survey Data for Predicting Distributions of Public Opinions\\nAuthors: Joseph Suh, Erfan Jahanparast, Suhong Moon, Minwoo Kang, Serina Chang\\nSummary: Large language models (LLMs) present novel opportunities in public opinion\\nresearch by predicting survey responses in advance during the early stages of\\nsurvey design. Prior methods steer LLMs via descriptions of subpopulations as\\nLLMs' input prompt, yet such prompt engineering approaches have struggled to\\nfaithfully predict the distribution of survey responses from human subjects. In\\nthis work, we propose directly fine-tuning LLMs to predict response\\ndistributions by leveraging unique structural characteristics of survey data.\\nTo enable fine-tuning, we curate SubPOP, a significantly scaled dataset of\\n3,362 questions and 70K subpopulation-response pairs from well-established\\npublic opinion surveys. We show that fine-tuning on SubPOP greatly improves the\\nmatch between LLM predictions and human responses across various\\nsubpopulations, reducing the LLM-human gap by up to 46% compared to baselines,\\nand achieves strong generalization to unseen surveys and subpopulations. Our\\nfindings highlight the potential of survey-based fine-tuning to improve opinion\\nprediction for diverse, real-world subpopulations and therefore enable more\\nefficient survey designs. Our code is available at\\nhttps://github.com/JosephJeesungSuh/subpop.\\n\\nPublished: 2024-10-05\\nTitle: Two Tales of Persona in LLMs: A Survey of Role-Playing and Personalization\\nAuthors: Yu-Min Tseng, Yu-Chao Huang, Teng-Yun Hsiao, Wei-Lin Chen, Chao-Wei Huang, Yu Meng, Yun-Nung Chen\\nSummary: The concept of persona, originally adopted in dialogue literature, has\\nre-surged as a promising framework for tailoring large language models (LLMs)\\nto specific context (e.g., personalized search, LLM-as-a-judge). However, the\\ngrowing research on leveraging persona in LLMs is relatively disorganized and\\nlacks a systematic taxonomy. To close the gap, we present a comprehensive\\nsurvey to categorize the current state of the field. We identify \", name='arxiv', id='965070a7-dfd5-42aa-a7d3-4e68d1de39a3', tool_call_id='call_JZLUfDP98mb9SK11A03US3bk')]}}\n",
      "{'agent': {'messages': AIMessage(content='Here is a summary of the relevant articles found when searching for \"LLM Survey\" on Arxiv:\\n\\n1. **From LLMs to LLM-based Agents for Software Engineering: A Survey of Current, Challenges and Future (Published: 2025-04-13)**: This paper explores the application of large language models (LLMs) in software engineering, particularly focusing on the emergence of LLM-based agents, which combine LLMs for decision-making and action, aiming towards artificial general intelligence (AGI). The survey reviews current practices, highlighting six key areas: requirement engineering, code generation, autonomous decision-making, software design, test generation, and software maintenance. It delineates the differences between LLMs and LLM-based agents, discussing the models and benchmarks used in these areas.\\n\\n2. **Language Model Fine-Tuning on Scaled Survey Data for Predicting Distributions of Public Opinions (Published: 2025-02-24)**: This research addresses the potential of LLMs in predicting survey responses for public opinion research by fine-tuning language models on scaled survey data. It introduces \"SubPOP,\" a curated dataset for fine-tuning LLMs, which significantly enhances alignment between LLM predictions and human responses, showing strong generalization to new surveys and subpopulations. This method aims to improve survey efficiency.\\n\\n3. **Two Tales of Persona in LLMs: A Survey of Role-Playing and Personalization (Published: 2024-10-05)**: The paper investigates the growing research area of incorporating persona into LLMs to tailor them to specific contexts, such as personalized search or decision-making roles. The survey attempts to categorize this research to bridge gaps in the current understanding and application of persona in LLMs.\\n\\nThese articles reflect the diverse applications and ongoing research developments in the utilization of LLMs across different domains.', additional_kwargs={'refusal': None}, response_metadata={'token_usage': {'completion_tokens': 379, 'prompt_tokens': 1634, 'total_tokens': 2013, 'completion_tokens_details': {'accepted_prediction_tokens': 0, 'audio_tokens': 0, 'reasoning_tokens': 0, 'rejected_prediction_tokens': 0}, 'prompt_tokens_details': {'audio_tokens': 0, 'cached_tokens': 0}}, 'model_name': 'gpt-4o-2024-08-06', 'system_fingerprint': 'fp_f33640a400', 'id': 'chatcmpl-CCkNP6ta4fMDtP4pA3POm323jQsO6', 'service_tier': 'default', 'finish_reason': 'stop', 'logprobs': None}, id='run--03490d1a-0f8f-47b3-9329-cce5941bc168-0', usage_metadata={'input_tokens': 1634, 'output_tokens': 379, 'total_tokens': 2013, 'input_token_details': {'audio': 0, 'cache_read': 0}, 'output_token_details': {'audio': 0, 'reasoning': 0}})}}\n",
      "{'summarize_message': {'summary': '다음은 \"LLM Survey\"를 주제로 한 Arxiv 논문들의 요약입니다:\\n\\n1. **소프트웨어 엔지니어링을 위한 LLM 기반 에이전트: 현재, 도전과 미래에 대한 조사 (출판: 2025-04-13)**: 이 논문은 소프트웨어 엔지니어링 분야에 LLM(대형 언어 모델)을 응용하는 것과, 의사결정 및 행동 수행을 위한 AGI(인공지능 일반) 목표의 LLM 기반 에이전트를 연구합니다. 요구 사항 엔지니어링, 코드 생성, 자동 의사결정, 소프트웨어 설계, 테스트 생성, 소프트웨어 유지보수 등 6가지 주요 분야를 다루고, LLM과 LLM 기반 에이전트의 차이점을 제시합니다.\\n\\n2. **공공 여론 분포 예측을 위한 확장된 설문 데이터 기반 LLM 미세 조정 (출판: 2025-02-24)**: 이 연구는 공공 여론조사에서 LLM이 설문 응답을 예측하는 방법을 개선하기 위해 \\'SubPOP\\'이라는 데이터셋을 사용해 LLM을 미세 조정함으로써, LLM 예측과 실제 응답 사이의 차이를 줄이는데 중점을 둡니다. 새로운 설문조사와 인구통계 그룹에 대한 높은 일반화 능력을 보여줍니다.\\n\\n3. **LLM에서의 페르소나: 역할 연기 및 개인화를 위한 조사 (출판: 2024-10-05)**: 이 논문은 대화문학에서 유래된 페르소나 개념을 LLM에 적용하여 특정 맥락(예: 개인화된 검색, 판사 역할 수행 등)에 맞게 LLM을 맞춤화하려는 연구를 정리합니다. 그 동시에, 이 분야의 연구를 체계적으로 카테고리화하여 현재 이해와 응용에서의 격차를 해소하려고 합니다.\\n\\n이 논문들은 다양한 도메인에서 LLM의 활용과 그 연구 개발을 반영하고 있습니다.'}}\n",
      "{'delete_message': {'messages': [RemoveMessage(content='', additional_kwargs={}, response_metadata={}, id='b273c2e2-aafb-4ac9-8fa6-1c0167ac078e')]}}\n"
     ]
    }
   ],
   "source": [
    "for chunk in graph.stream(\n",
    "\n",
    "    Command(resume={\"action\": \"continue\", \"data\": \"\"}), config, stream_mode=\"updates\"):\n",
    "    print(chunk)"
   ]
  }
 ],
 "metadata": {
  "kernelspec": {
   "display_name": ".venv",
   "language": "python",
   "name": "python3"
  },
  "language_info": {
   "codemirror_mode": {
    "name": "ipython",
    "version": 3
   },
   "file_extension": ".py",
   "mimetype": "text/x-python",
   "name": "python",
   "nbconvert_exporter": "python",
   "pygments_lexer": "ipython3",
   "version": "3.12.4"
  }
 },
 "nbformat": 4,
 "nbformat_minor": 5
}
