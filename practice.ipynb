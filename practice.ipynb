{
 "cells": [
  {
   "cell_type": "markdown",
   "id": "9f44439e",
   "metadata": {},
   "source": [
    "tool_list =  \n",
    "(\n",
    "    [add, multiply, search_tool, retriever_tool]  \n",
    "     + gmail_tool_list + loaded_tool_list\n",
    ")"
   ]
  },
  {
   "cell_type": "markdown",
   "id": "ebcef3cf",
   "metadata": {},
   "source": [
    "* from langgraph.checkpoint.memory import MemorySaver\n",
    "* DuckDuckGoSearchRun\n",
    "* from langchain.agents import load_tools\n",
    "* create_retriever_tool\n",
    "* ToolNode"
   ]
  },
  {
   "cell_type": "markdown",
   "id": "6a832da2",
   "metadata": {},
   "source": [
    "### tools 선언"
   ]
  },
  {
   "cell_type": "code",
   "execution_count": 11,
   "id": "419105bf",
   "metadata": {},
   "outputs": [
    {
     "data": {
      "text/plain": [
       "True"
      ]
     },
     "execution_count": 11,
     "metadata": {},
     "output_type": "execute_result"
    }
   ],
   "source": [
    "from dotenv import load_dotenv\n",
    "\n",
    "load_dotenv()"
   ]
  },
  {
   "cell_type": "code",
   "execution_count": 4,
   "id": "70453249",
   "metadata": {},
   "outputs": [],
   "source": [
    "from langchain_core.tools import tool\n",
    "\n",
    "\n",
    "@tool\n",
    "def add(a: int, b: int) -> int:\n",
    "    \"\"\"숫자 a와 b를 더합니다.\"\"\"\n",
    "    return a + b\n",
    "\n",
    "\n",
    "@tool\n",
    "def multiply(a: int, b: int) -> int:\n",
    "    \"\"\"숫자 a와 b를 곱합니다.\"\"\"\n",
    "    return a * b"
   ]
  },
  {
   "cell_type": "code",
   "execution_count": 5,
   "id": "58c9fddb",
   "metadata": {},
   "outputs": [],
   "source": [
    "from langchain_community.tools import DuckDuckGoSearchRun\n",
    "\n",
    "search_tool = DuckDuckGoSearchRun()"
   ]
  },
  {
   "cell_type": "code",
   "execution_count": 12,
   "id": "c5de82da",
   "metadata": {},
   "outputs": [],
   "source": [
    "from langchain_google_community import GmailToolkit\n",
    "\n",
    "from langchain_google_community.gmail.utils import (\n",
    "    build_resource_service,\n",
    "    get_gmail_credentials,\n",
    ")\n",
    "\n",
    "# Can review scopes here https://developers.google.com/gmail/api/auth/scopes\n",
    "# For instance, readonly scope is 'https://www.googleapis.com/auth/gmail.readonly'\n",
    "credentials = get_gmail_credentials(\n",
    "    token_file=\"google/token.json\",\n",
    "    scopes=[\"https://mail.google.com/\"],\n",
    "    client_secrets_file=\"google/credentials.json\",\n",
    ")\n",
    "api_resource = build_resource_service(credentials=credentials)\n",
    "gmail_toolkit = GmailToolkit(api_resource=api_resource)\n",
    "gmail_tool_list = gmail_toolkit.get_tools()"
   ]
  },
  {
   "cell_type": "code",
   "execution_count": 8,
   "id": "3069e393",
   "metadata": {},
   "outputs": [],
   "source": [
    "from langchain.agents import load_tools\n",
    "\n",
    "loaded_tool_list = load_tools(\n",
    "    [\"arxiv\"],\n",
    ")"
   ]
  },
  {
   "cell_type": "code",
   "execution_count": 14,
   "id": "188e5912",
   "metadata": {},
   "outputs": [],
   "source": [
    "import os\n",
    "\n",
    "from langchain_pinecone import PineconeVectorStore\n",
    "from langchain_upstage import UpstageEmbeddings\n",
    "from langchain_core.tools.retriever import create_retriever_tool\n",
    "\n",
    "embedding_function = UpstageEmbeddings(\n",
    "    model=\"embedding-query\"\n",
    ")\n",
    "vector_store = PineconeVectorStore(\n",
    "    embedding=embedding_function,\n",
    "    index_name=\"real-estate\",\n",
    ")\n",
    "retriever = vector_store.as_retriever(search_kwargs={\"k\": 3})\n",
    "retriever_tool = create_retriever_tool(\n",
    "    retriever=retriever,\n",
    "    name=\"real_estate_tax_retriever\",\n",
    "    description=\"Contains information about real estate tax up to December 2024\",\n",
    ")"
   ]
  },
  {
   "cell_type": "code",
   "execution_count": 15,
   "id": "82ac0348",
   "metadata": {},
   "outputs": [],
   "source": [
    "from langchain_openai import ChatOpenAI\n",
    "\n",
    "llm = ChatOpenAI(model=\"gpt-4o\")"
   ]
  },
  {
   "cell_type": "code",
   "execution_count": 17,
   "id": "ce30fdee",
   "metadata": {},
   "outputs": [],
   "source": [
    "from langgraph.prebuilt import ToolNode\n",
    "\n",
    "tool_list = [retriever_tool, search_tool, add, multiply] + loaded_tool_list + gmail_tool_list\n",
    "\n",
    "llm_with_tools = llm.bind_tools(tool_list)\n",
    "tool_node = ToolNode(tool_list)"
   ]
  },
  {
   "cell_type": "code",
   "execution_count": 2,
   "id": "4fc93559",
   "metadata": {},
   "outputs": [],
   "source": [
    "from langgraph.graph import StateGraph, MessagesState\n",
    "\n",
    "class AgentState(MessagesState):\n",
    "    summary: str\n",
    "\n",
    "graph_builder = StateGraph(AgentState)"
   ]
  },
  {
   "cell_type": "code",
   "execution_count": 28,
   "id": "5a3b6e31",
   "metadata": {},
   "outputs": [],
   "source": [
    "from langchain_core.messages import SystemMessage\n",
    "\n",
    "def agent(state: AgentState):\n",
    "\n",
    "    messages = state[\"messages\"]\n",
    "    summary = state[\"summary\"]\n",
    "\n",
    "    if summary != \"\":\n",
    "        messages = [SystemMessage(content=f\"\"\"\n",
    "        이것은 이전 대화들을 요약한 것입니다. 참고하여주세요.\\n요약: {summary}\n",
    "        \"\"\")] + messages\n",
    "\n",
    "    \n",
    "\n",
    "    response = llm_with_tools.invoke(messages)\n",
    "\n",
    "    return {\"messages\": [response]}"
   ]
  },
  {
   "cell_type": "code",
   "execution_count": 29,
   "id": "afe505ba",
   "metadata": {},
   "outputs": [],
   "source": [
    "query = \"최신 ai 논문을 찾아주세요\""
   ]
  },
  {
   "cell_type": "code",
   "execution_count": 30,
   "id": "688fcd38",
   "metadata": {},
   "outputs": [],
   "source": [
    "initial_state = {\"messages\": query, \"summary\": \"\"}"
   ]
  },
  {
   "cell_type": "code",
   "execution_count": 31,
   "id": "afd60cf7",
   "metadata": {},
   "outputs": [],
   "source": [
    "result = agent(initial_state)"
   ]
  },
  {
   "cell_type": "code",
   "execution_count": 23,
   "id": "d5d08ac8",
   "metadata": {},
   "outputs": [
    {
     "data": {
      "text/plain": [
       "{'messages': AIMessage(content='', additional_kwargs={'tool_calls': [{'id': 'call_zYAPTvKgUwbjpzFpO4ZXwyL7', 'function': {'arguments': '{\"query\":\"artificial intelligence\"}', 'name': 'arxiv'}, 'type': 'function'}], 'refusal': None}, response_metadata={'token_usage': {'completion_tokens': 16, 'prompt_tokens': 744, 'total_tokens': 760, 'completion_tokens_details': {'accepted_prediction_tokens': 0, 'audio_tokens': 0, 'reasoning_tokens': 0, 'rejected_prediction_tokens': 0}, 'prompt_tokens_details': {'audio_tokens': 0, 'cached_tokens': 0}}, 'model_name': 'gpt-4o-2024-08-06', 'system_fingerprint': 'fp_46bff0e0c8', 'id': 'chatcmpl-CAzCrJZLqFR97UVlXWVZx6PhkqzxI', 'service_tier': 'default', 'finish_reason': 'tool_calls', 'logprobs': None}, id='run--8025cf87-aba1-44db-822e-fcfdd998b9e4-0', tool_calls=[{'name': 'arxiv', 'args': {'query': 'artificial intelligence'}, 'id': 'call_zYAPTvKgUwbjpzFpO4ZXwyL7', 'type': 'tool_call'}], usage_metadata={'input_tokens': 744, 'output_tokens': 16, 'total_tokens': 760, 'input_token_details': {'audio': 0, 'cache_read': 0}, 'output_token_details': {'audio': 0, 'reasoning': 0}})}"
      ]
     },
     "execution_count": 23,
     "metadata": {},
     "output_type": "execute_result"
    }
   ],
   "source": [
    "result"
   ]
  },
  {
   "cell_type": "code",
   "execution_count": 36,
   "id": "20e65dd6",
   "metadata": {},
   "outputs": [
    {
     "data": {
      "text/plain": [
       "{'name': 'arxiv',\n",
       " 'args': {'query': 'latest AI papers'},\n",
       " 'id': 'call_PeBW9BXMSj3li1VnFTuMsPnY',\n",
       " 'type': 'tool_call'}"
      ]
     },
     "execution_count": 36,
     "metadata": {},
     "output_type": "execute_result"
    }
   ],
   "source": [
    "result['messages'][-1].tool_calls[0]"
   ]
  },
  {
   "cell_type": "code",
   "execution_count": 38,
   "id": "69466dce",
   "metadata": {},
   "outputs": [],
   "source": [
    "tool_result = tool_node.invoke(result)"
   ]
  },
  {
   "cell_type": "code",
   "execution_count": 44,
   "id": "189f35ce",
   "metadata": {},
   "outputs": [
    {
     "data": {
      "text/plain": [
       "'Published: 2025-03-04\\nTitle: Reflection on Data Storytelling Tools in the Generative AI Era from the Human-AI Collaboration Perspective\\nAuthors: Haotian Li, Yun Wang, Huamin Qu\\nSummary: Human-AI collaborative tools attract attentions from the data storytelling\\ncommunity to lower the barrier of expertise and streamline the workflow. The\\nrecent advance in large-scale generative AI techniques, e.g., large language\\nmodels (LLMs) and text-to-image models, has the potential to enhance data\\nstorytelling with their power in visual and narration generation. After two\\nyears since these techniques were publicly available, it is important to\\nreflect our progress of applying them and have an outlook for future\\nopportunities. To achieve the goal, we compare the collaboration patterns of\\nthe latest tools with those of earlier ones using a dedicated framework for\\nunderstanding human-AI collaboration in data storytelling. Through comparison,\\nwe identify persistent collaboration patterns, e.g., human-creator +\\nAI-assistant, and emerging ones, e.g., AI-creator + human-reviewer. The\\nbenefits of these AI techniques and other implications to human-AI\\ncollaboration are also revealed. We further propose future directions to\\nhopefully ignite innovations.\\n\\nPublished: 2021-04-27\\nTitle: Enabling AI in Future Wireless Networks: A Data Life Cycle Perspective\\nAuthors: Dinh C. Nguyen, Peng Cheng, Ming Ding, David Lopez-Perez, Pubudu N. Pathirana, Jun Li, Aruna Seneviratne, Yonghui Li, H. Vincent Poor\\nSummary: Recent years have seen rapid deployment of mobile computing and Internet of\\nThings (IoT) networks, which can be mostly attributed to the increasing\\ncommunication and sensing capabilities of wireless systems. Big data analysis,\\npervasive computing, and eventually artificial intelligence (AI) are envisaged\\nto be deployed on top of the IoT and create a new world featured by data-driven\\nAI. In this context, a novel paradigm of merging AI and wireless\\ncommunications, called Wireless AI that pushes AI frontiers to the network\\nedge, is widely regarded as a key enabler for future intelligent network\\nevolution. To this end, we present a comprehensive survey of the latest studies\\nin wireless AI from the data-driven perspective. Specifically, we first propose\\na novel Wireless AI architecture that covers five key data-driven AI themes in\\nwireless networks, including Sensing AI, Network Device AI, Access AI, User\\nDevice AI and Data-provenance AI. Then, for each data-driven AI theme, we\\npresent an overview on the use of AI approaches to solve the emerging\\ndata-related problems and show how AI can empower wireless network\\nfunctionalities. Particularly, compared to the other related survey papers, we\\nprovide an in-depth discussion on the Wireless AI applications in various\\ndata-driven domains wherein AI proves extremely useful for wireless network\\ndesign and optimization. Finally, research challenges and future visions are\\nalso discussed to spur further research in this promising area.\\n\\nPublished: 2024-09-16\\nTitle: Strategic AI Governance: Insights from Leading Nations\\nAuthors: Dian W. Tjondronegoro\\nSummary: Artificial Intelligence (AI) has the potential to revolutionize various\\nsectors, yet its adoption is often hindered by concerns about data privacy,\\nsecurity, and the understanding of AI capabilities. This paper synthesizes AI\\ngovernance approaches, strategic themes, and enablers and challenges for AI\\nadoption by reviewing national AI strategies from leading nations. The key\\ncontribution is the development of an EPIC (Education, Partnership,\\nInfrastructure, Community) framework, which maps AI implementation requirements\\nto fully realize social impacts and public good from successful and sustained\\nAI deployment. Through a multi-perspective content analysis of the latest AI\\nstrategy documents, this paper provides a structured comparison of AI\\ngovernance strategies across nations. The findings offer valuable insights for\\ngovernments, academics, industries, and communit'"
      ]
     },
     "execution_count": 44,
     "metadata": {},
     "output_type": "execute_result"
    }
   ],
   "source": [
    "tool_result['messages'][0].content"
   ]
  }
 ],
 "metadata": {
  "kernelspec": {
   "display_name": ".venv",
   "language": "python",
   "name": "python3"
  },
  "language_info": {
   "codemirror_mode": {
    "name": "ipython",
    "version": 3
   },
   "file_extension": ".py",
   "mimetype": "text/x-python",
   "name": "python",
   "nbconvert_exporter": "python",
   "pygments_lexer": "ipython3",
   "version": "3.12.4"
  }
 },
 "nbformat": 4,
 "nbformat_minor": 5
}
