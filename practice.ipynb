{
 "cells": [
  {
   "cell_type": "markdown",
   "id": "9f44439e",
   "metadata": {},
   "source": [
    "tool_list =  \n",
    "(\n",
    "    [add, multiply, search_tool, retriever_tool]  \n",
    "     + gmail_tool_list + loaded_tool_list\n",
    ")"
   ]
  },
  {
   "cell_type": "markdown",
   "id": "ebcef3cf",
   "metadata": {},
   "source": [
    "* from langgraph.checkpoint.memory import MemorySaver\n",
    "* DuckDuckGoSearchRun\n",
    "* from langchain.agents import load_tools\n",
    "* create_retriever_tool\n",
    "* ToolNode"
   ]
  },
  {
   "cell_type": "code",
   "execution_count": 1,
   "id": "2950fff7",
   "metadata": {},
   "outputs": [
    {
     "data": {
      "text/plain": [
       "True"
      ]
     },
     "execution_count": 1,
     "metadata": {},
     "output_type": "execute_result"
    }
   ],
   "source": [
    "from dotenv import load_dotenv\n",
    "\n",
    "load_dotenv()"
   ]
  },
  {
   "cell_type": "code",
   "execution_count": null,
   "id": "7f58e5ac",
   "metadata": {},
   "outputs": [
    {
     "name": "stderr",
     "output_type": "stream",
     "text": [
      "USER_AGENT environment variable not set, consider setting it to identify your requests.\n"
     ]
    }
   ],
   "source": [
    "from langgraph.graph import MessagesState\n",
    "from langgraph.prebuilt import create_react_agent\n",
    "from langchain_openai import ChatOpenAI\n",
    "from langgraph.types import Command\n",
    "from typing_extensions import Literal\n",
    "from langchain_core.messages import HumanMessage\n",
    "\n",
    "from langchain_community.tools.yahoo_finance_news import YahooFinanceNewsTool\n",
    "\n",
    "from langchain_community.utilities.polygon import PolygonAPIWrapper\n",
    "from langchain_community.agent_toolkits.polygon.toolkit import PolygonToolkit\n",
    "\n",
    "llm = ChatOpenAI(model=\"gpt-4o\")\n",
    "\n",
    "polygon = PolygonAPIWrapper()\n",
    "toolkit = PolygonToolkit.from_polygon_api_wrapper(polygon)\n",
    "polygon_tools = toolkit.get_tools()\n",
    "\n",
    "market_research_tool_list = [YahooFinanceNewsTool()] + polygon_tools\n",
    "\n",
    "market_research_agent = create_react_agent(\n",
    "    model=llm,\n",
    "    tools=market_research_tool_list,\n",
    "    prompt=\"You are a market researcher. Provide fact only not opinions\"\n",
    ")\n",
    "\n",
    "def market_research_node(state: MessagesState) -> Command[Literal[\"supervisor\"]]:\n",
    "\n",
    "    result = market_research_agent.invoke(state)\n",
    "\n",
    "    return Command(goto=\"supervisor\", \n",
    "    update={\"messages\": [\n",
    "        HumanMessage(content=result['messages'][-1].content, name=\"market_research\")\n",
    "        ]\n",
    "    })"
   ]
  },
  {
   "cell_type": "code",
   "execution_count": 3,
   "id": "a4e2d013",
   "metadata": {},
   "outputs": [],
   "source": [
    "result = market_research_agent.invoke({\"messages\": \"최근 미국 경제의 동향을 알려줘\"})"
   ]
  },
  {
   "cell_type": "code",
   "execution_count": 4,
   "id": "217869c5",
   "metadata": {},
   "outputs": [
    {
     "data": {
      "text/plain": [
       "'현재 다우 존스 산업 평균 지수를 기반으로 한 최근 뉴스는 제공되지 않았습니다. 다른 소스를 통해 미국 경제 동향을 살펴보는 것이 좋을 것입니다.'"
      ]
     },
     "execution_count": 4,
     "metadata": {},
     "output_type": "execute_result"
    }
   ],
   "source": [
    "result['messages'][-1].content"
   ]
  },
  {
   "cell_type": "code",
   "execution_count": 5,
   "id": "07c5d7c2",
   "metadata": {},
   "outputs": [],
   "source": [
    "# 주식조사 \n",
    "\n",
    "import yfinance as yf\n",
    "from langchain.tools import tool\n",
    "\n",
    "@tool\n",
    "def get_stock_price(ticker: str) -> dict:\n",
    "    \"\"\"Given a stock ticker, return the price data for the past month\"\"\"\n",
    "    stock_info = yf.download(tickers=ticker, period=\"3mo\").to_dict()\n",
    "    return stock_info\n",
    "\n",
    "\n",
    "stock_research_agent = create_react_agent(\n",
    "    model=llm,\n",
    "    tools=[get_stock_price],\n",
    "    prompt=\"You are a stock researcher. Provide facts only not opinions\"\n",
    ")\n",
    "\n",
    "\n",
    "def stock_research_node(state: MessagesState) -> Command[Literal['supervisor']]:\n",
    "\n",
    "    result = stock_research_agent.invoke(state)\n",
    "\n",
    "    return Command(update={\"messages\": [\n",
    "        HumanMessage(\n",
    "            content=result['messages'][-1].content, \n",
    "            name=\"stock_research\")\n",
    "            ]\n",
    "        }, \n",
    "        goto=\"supervisor\")\n"
   ]
  },
  {
   "cell_type": "code",
   "execution_count": 6,
   "id": "3ca0a54f",
   "metadata": {},
   "outputs": [
    {
     "name": "stderr",
     "output_type": "stream",
     "text": [
      "C:\\Users\\wogus\\AppData\\Local\\Temp\\ipykernel_70080\\785791874.py:9: FutureWarning: YF.download() has changed argument auto_adjust default to True\n",
      "  stock_info = yf.download(tickers=ticker, period=\"3mo\").to_dict()\n",
      "[*********************100%***********************]  1 of 1 completed\n"
     ]
    }
   ],
   "source": [
    "result = stock_research_agent.invoke({\"messages\": \"애플 주식을 조사해줘\"})"
   ]
  },
  {
   "cell_type": "code",
   "execution_count": 7,
   "id": "334aa598",
   "metadata": {},
   "outputs": [
    {
     "data": {
      "text/plain": [
       "'Here is the recent stock price data for Apple Inc. (AAPL) over the past few months:\\n\\n### Closing Prices:\\n- **September 5, 2025:** $239.69\\n- **September 4, 2025:** $239.78\\n- **September 3, 2025:** $238.47\\n- **August 29, 2025:** $232.14\\n- **August 28, 2025:** $232.56\\n- **August 27, 2025:** $230.49\\n- **August 26, 2025:** $229.31\\n- **August 25, 2025:** $227.16\\n\\n### High Prices:\\n- **September 5, 2025:** $241.32\\n- **September 4, 2025:** $239.90\\n- **September 3, 2025:** $238.85\\n- **August 29, 2025:** $233.38\\n- **August 28, 2025:** $233.41\\n- **August 27, 2025:** $230.90\\n- **August 26, 2025:** $229.49\\n- **August 25, 2025:** $229.30\\n\\n### Low Prices:\\n- **September 5, 2025:** $238.49\\n- **September 4, 2025:** $236.74\\n- **September 3, 2025:** $234.36\\n- **August 29, 2025:** $231.37\\n- **August 28, 2025:** $229.34\\n- **August 27, 2025:** $228.26\\n- **August 26, 2025:** $224.69\\n- **August 25, 2025:** $226.23\\n\\n### Opening Prices:\\n- **September 5, 2025:** $240.00\\n- **September 4, 2025:** $238.45\\n- **September 3, 2025:** $237.21\\n- **August 29, 2025:** $232.51\\n- **August 28, 2025:** $230.82\\n- **August 27, 2025:** $228.61\\n- **August 26, 2025:** $226.87\\n- **August 25, 2025:** $226.48\\n\\n### Trading Volume:\\n- **September 5, 2025:** 54,837,300\\n- **September 4, 2025:** 47,549,400\\n- **September 3, 2025:** 66,427,800\\n- **August 29, 2025:** 39,418,400\\n- **August 28, 2025:** 38,074,700\\n- **August 27, 2025:** 31,259,500\\n- **August 26, 2025:** 54,575,100\\n- **August 25, 2025:** 30,983,100\\n\\nThis data covers various statistics including the high, low, opening, and closing prices, as well as the trading volume for each day.'"
      ]
     },
     "execution_count": 7,
     "metadata": {},
     "output_type": "execute_result"
    }
   ],
   "source": [
    "result['messages'][-1].content"
   ]
  },
  {
   "cell_type": "code",
   "execution_count": 10,
   "id": "ef64f033",
   "metadata": {},
   "outputs": [],
   "source": [
    "@tool\n",
    "def company_research_tool(ticker:str) -> dict:\n",
    "    \"\"\"Given a ticker, return the financial information and SEC filings\"\"\"\n",
    "    company_info = yf.Ticker(ticker)\n",
    "    financials_info = company_info.get_financials()\n",
    "    sec_filings = company_info.get_sec_filings()\n",
    "    return {\"financials_info\": financials_info, \"sec_filings\": sec_filings}\n",
    "\n",
    "\n",
    "company_research_agent = create_react_agent(\n",
    "    model=llm,\n",
    "    tools=[company_research_tool],\n",
    "    prompt=\"You are a company researcher. Provide facts only not opinions\"\n",
    ")\n",
    "\n",
    "def company_research_node(state: MessagesState) -> Command[Literal[\"supervisor\"]]:\n",
    "\n",
    "    result = company_research_agent.invoke(state)\n",
    "\n",
    "    return Command(\n",
    "        update={\n",
    "            \"messages\": [\n",
    "                HumanMessage(\n",
    "                    content=result['messages'][-1].content, \n",
    "                    name=\"company_research\")\n",
    "                    ]\n",
    "                }, \n",
    "        goto=\"supervisor\")\n",
    "    "
   ]
  },
  {
   "cell_type": "code",
   "execution_count": 11,
   "id": "78dee8f6",
   "metadata": {},
   "outputs": [],
   "source": [
    "from langchain_core.prompts import PromptTemplate\n",
    "\n",
    "analyst_prompt = PromptTemplate.from_template(\n",
    "    \"\"\"You are a stock market analyst. Given the following information, \n",
    "Please decide wheter to buy, sell, or hold the stock.\n",
    "\n",
    "Information:\n",
    "{messages}\"\"\"\n",
    ")\n",
    "\n",
    "analyst_chain = analyst_prompt | llm\n",
    "\n",
    "def analyst(state: MessagesState):\n",
    "\n",
    "    result = analyst_chain.invoke({\"messages\": state[\"messages\"][1:]})\n",
    "\n",
    "    return {\"messages\": [result]}"
   ]
  }
 ],
 "metadata": {
  "kernelspec": {
   "display_name": ".venv",
   "language": "python",
   "name": "python3"
  },
  "language_info": {
   "codemirror_mode": {
    "name": "ipython",
    "version": 3
   },
   "file_extension": ".py",
   "mimetype": "text/x-python",
   "name": "python",
   "nbconvert_exporter": "python",
   "pygments_lexer": "ipython3",
   "version": "3.12.4"
  }
 },
 "nbformat": 4,
 "nbformat_minor": 5
}
