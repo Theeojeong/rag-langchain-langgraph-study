{
 "cells": [
  {
   "cell_type": "markdown",
   "id": "9f44439e",
   "metadata": {},
   "source": [
    "tool_list =  \n",
    "(\n",
    "    [add, multiply, search_tool, retriever_tool]  \n",
    "     + gmail_tool_list + loaded_tool_list\n",
    ")"
   ]
  },
  {
   "cell_type": "markdown",
   "id": "ebcef3cf",
   "metadata": {},
   "source": [
    "* from langgraph.checkpoint.memory import MemorySaver\n",
    "* DuckDuckGoSearchRun\n",
    "* from langchain.agents import load_tools\n",
    "* create_retriever_tool\n",
    "* ToolNode"
   ]
  },
  {
   "cell_type": "markdown",
   "id": "6a832da2",
   "metadata": {},
   "source": [
    "### tools 선언"
   ]
  },
  {
   "cell_type": "code",
   "execution_count": 70,
   "id": "419105bf",
   "metadata": {},
   "outputs": [
    {
     "data": {
      "text/plain": [
       "True"
      ]
     },
     "execution_count": 70,
     "metadata": {},
     "output_type": "execute_result"
    }
   ],
   "source": [
    "from dotenv import load_dotenv\n",
    "\n",
    "load_dotenv()"
   ]
  },
  {
   "cell_type": "code",
   "execution_count": 71,
   "id": "70453249",
   "metadata": {},
   "outputs": [],
   "source": [
    "from langchain_core.tools import tool\n",
    "\n",
    "\n",
    "@tool\n",
    "def add(a: int, b: int) -> int:\n",
    "    \"\"\"숫자 a와 b를 더합니다.\"\"\"\n",
    "    return a + b\n",
    "\n",
    "\n",
    "@tool\n",
    "def multiply(a: int, b: int) -> int:\n",
    "    \"\"\"숫자 a와 b를 곱합니다.\"\"\"\n",
    "    return a * b"
   ]
  },
  {
   "cell_type": "code",
   "execution_count": 72,
   "id": "58c9fddb",
   "metadata": {},
   "outputs": [],
   "source": [
    "from langchain_community.tools import DuckDuckGoSearchRun\n",
    "\n",
    "search_tool = DuckDuckGoSearchRun()"
   ]
  },
  {
   "cell_type": "code",
   "execution_count": 73,
   "id": "c5de82da",
   "metadata": {},
   "outputs": [],
   "source": [
    "from langchain_google_community import GmailToolkit\n",
    "\n",
    "from langchain_google_community.gmail.utils import (\n",
    "    build_resource_service,\n",
    "    get_gmail_credentials,\n",
    ")\n",
    "\n",
    "# Can review scopes here https://developers.google.com/gmail/api/auth/scopes\n",
    "# For instance, readonly scope is 'https://www.googleapis.com/auth/gmail.readonly'\n",
    "credentials = get_gmail_credentials(\n",
    "    token_file=\"google/token.json\",\n",
    "    scopes=[\"https://mail.google.com/\"],\n",
    "    client_secrets_file=\"google/credentials.json\",\n",
    ")\n",
    "api_resource = build_resource_service(credentials=credentials)\n",
    "gmail_toolkit = GmailToolkit(api_resource=api_resource)\n",
    "gmail_tool_list = gmail_toolkit.get_tools()"
   ]
  },
  {
   "cell_type": "code",
   "execution_count": 74,
   "id": "3069e393",
   "metadata": {},
   "outputs": [],
   "source": [
    "from langchain.agents import load_tools\n",
    "\n",
    "loaded_tool_list = load_tools(\n",
    "    [\"arxiv\"],\n",
    ")"
   ]
  },
  {
   "cell_type": "code",
   "execution_count": 75,
   "id": "188e5912",
   "metadata": {},
   "outputs": [],
   "source": [
    "import os\n",
    "\n",
    "from langchain_pinecone import PineconeVectorStore\n",
    "from langchain_upstage import UpstageEmbeddings\n",
    "from langchain_core.tools.retriever import create_retriever_tool\n",
    "\n",
    "embedding_function = UpstageEmbeddings(\n",
    "    model=\"embedding-query\"\n",
    ")\n",
    "vector_store = PineconeVectorStore(\n",
    "    embedding=embedding_function,\n",
    "    index_name=\"real-estate\",\n",
    ")\n",
    "retriever = vector_store.as_retriever(search_kwargs={\"k\": 3})\n",
    "retriever_tool = create_retriever_tool(\n",
    "    retriever=retriever,\n",
    "    name=\"real_estate_tax_retriever\",\n",
    "    description=\"Contains information about real estate tax up to December 2024\",\n",
    ")"
   ]
  },
  {
   "cell_type": "code",
   "execution_count": 76,
   "id": "82ac0348",
   "metadata": {},
   "outputs": [],
   "source": [
    "from langchain_openai import ChatOpenAI\n",
    "\n",
    "llm = ChatOpenAI(model=\"gpt-4o\")"
   ]
  },
  {
   "cell_type": "code",
   "execution_count": 77,
   "id": "ce30fdee",
   "metadata": {},
   "outputs": [],
   "source": [
    "from langgraph.prebuilt import ToolNode\n",
    "\n",
    "tool_list = [retriever_tool, search_tool, add, multiply] + loaded_tool_list + gmail_tool_list\n",
    "\n",
    "llm_with_tools = llm.bind_tools(tool_list)\n",
    "tool_node = ToolNode(tool_list)"
   ]
  },
  {
   "cell_type": "markdown",
   "id": "cacfd12c",
   "metadata": {},
   "source": [
    "### state 정의하기"
   ]
  },
  {
   "cell_type": "code",
   "execution_count": 79,
   "id": "4fc93559",
   "metadata": {},
   "outputs": [],
   "source": [
    "from langgraph.graph import StateGraph, MessagesState\n",
    "\n",
    "class AgentState(MessagesState):\n",
    "    summary: str\n",
    "\n",
    "graph_builder = StateGraph(AgentState)"
   ]
  },
  {
   "cell_type": "markdown",
   "id": "9f691f98",
   "metadata": {},
   "source": [
    "### Node 만들기"
   ]
  },
  {
   "cell_type": "code",
   "execution_count": 80,
   "id": "5a3b6e31",
   "metadata": {},
   "outputs": [],
   "source": [
    "from langchain_core.messages import SystemMessage\n",
    "\n",
    "def agent(state: AgentState):\n",
    "    \n",
    "    messages = state[\"messages\"]\n",
    "    summary = state[\"summary\"]\n",
    "\n",
    "    if summary != \"\":\n",
    "        messages = [SystemMessage(content=f\"\"\"\n",
    "        이것은 이전 대화들을 요약한 것입니다. 참고하여주세요.\\n요약: {summary}\n",
    "        \"\"\")] + messages\n",
    "\n",
    "    response = llm_with_tools.invoke(messages)\n",
    "\n",
    "    return {\"messages\": [response]}"
   ]
  },
  {
   "cell_type": "code",
   "execution_count": 84,
   "id": "4a51d0dd",
   "metadata": {},
   "outputs": [],
   "source": [
    "from langchain_core.messages import HumanMessage\n",
    "\n",
    "query = \"내 메일로 최신 ai 논문을 요약해서 발송해줘. 내 메일: wogusto13@gmal.com\"\n",
    "\n",
    "initial_state = {\"messages\": [HumanMessage(query)], \"summary\": \"\"}"
   ]
  },
  {
   "cell_type": "code",
   "execution_count": 86,
   "id": "dece943f",
   "metadata": {},
   "outputs": [],
   "source": [
    "response = agent(initial_state)"
   ]
  },
  {
   "cell_type": "code",
   "execution_count": 88,
   "id": "f75c5828",
   "metadata": {},
   "outputs": [],
   "source": [
    "tool_response = tool_node.invoke(response)"
   ]
  },
  {
   "cell_type": "code",
   "execution_count": 97,
   "id": "b455294e",
   "metadata": {},
   "outputs": [
    {
     "ename": "AttributeError",
     "evalue": "'ToolMessage' object has no attribute 'tool_calls'",
     "output_type": "error",
     "traceback": [
      "\u001b[31m---------------------------------------------------------------------------\u001b[39m",
      "\u001b[31mAttributeError\u001b[39m                            Traceback (most recent call last)",
      "\u001b[36mCell\u001b[39m\u001b[36m \u001b[39m\u001b[32mIn[97]\u001b[39m\u001b[32m, line 1\u001b[39m\n\u001b[32m----> \u001b[39m\u001b[32m1\u001b[39m \u001b[43mtool_response\u001b[49m\u001b[43m[\u001b[49m\u001b[33;43m'\u001b[39;49m\u001b[33;43mmessages\u001b[39;49m\u001b[33;43m'\u001b[39;49m\u001b[43m]\u001b[49m\u001b[43m[\u001b[49m\u001b[43m-\u001b[49m\u001b[32;43m1\u001b[39;49m\u001b[43m]\u001b[49m\u001b[43m.\u001b[49m\u001b[43mtool_calls\u001b[49m\n",
      "\u001b[36mFile \u001b[39m\u001b[32mc:\\dev2\\AI_Agent\\.venv\\Lib\\site-packages\\pydantic\\main.py:991\u001b[39m, in \u001b[36mBaseModel.__getattr__\u001b[39m\u001b[34m(self, item)\u001b[39m\n\u001b[32m    988\u001b[39m     \u001b[38;5;28;01mreturn\u001b[39;00m \u001b[38;5;28msuper\u001b[39m().\u001b[34m__getattribute__\u001b[39m(item)  \u001b[38;5;66;03m# Raises AttributeError if appropriate\u001b[39;00m\n\u001b[32m    989\u001b[39m \u001b[38;5;28;01melse\u001b[39;00m:\n\u001b[32m    990\u001b[39m     \u001b[38;5;66;03m# this is the current error\u001b[39;00m\n\u001b[32m--> \u001b[39m\u001b[32m991\u001b[39m     \u001b[38;5;28;01mraise\u001b[39;00m \u001b[38;5;167;01mAttributeError\u001b[39;00m(\u001b[33mf\u001b[39m\u001b[33m'\u001b[39m\u001b[38;5;132;01m{\u001b[39;00m\u001b[38;5;28mtype\u001b[39m(\u001b[38;5;28mself\u001b[39m).\u001b[34m__name__\u001b[39m\u001b[38;5;132;01m!r}\u001b[39;00m\u001b[33m object has no attribute \u001b[39m\u001b[38;5;132;01m{\u001b[39;00mitem\u001b[38;5;132;01m!r}\u001b[39;00m\u001b[33m'\u001b[39m)\n",
      "\u001b[31mAttributeError\u001b[39m: 'ToolMessage' object has no attribute 'tool_calls'"
     ]
    }
   ],
   "source": [
    "tool_response['messages'][-1].tool_calls"
   ]
  },
  {
   "cell_type": "code",
   "execution_count": null,
   "id": "48ad0324",
   "metadata": {},
   "outputs": [],
   "source": [
    "from langgraph.types import interrupt, Command\n",
    "\n",
    "def human_review(state: AgentState):\n",
    "\n",
    "    messages = state[\"messages\"]\n",
    "    last_message = messages[-1]\n",
    "    tool_call = last_message.tool_calls[-1]\n",
    "    \n",
    "    human_review = interrupt({\"question\": \"이렇게 진행하면 될까요?\", \"tool_message\": tool_call})\n",
    "    review_action = human_review[\"action\"]\n",
    "\n",
    "    review_data = human_review.get(\"data\", None)\n",
    "\n",
    "    if review_action == \"continue\":\n",
    "        return Command(goto=\"tools\")\n",
    "    \n",
    "    if review_action == \"update_args\": # 도구는 맞게 골랐는데 args가 마음에 안드는 경우\n",
    "\n",
    "        update_ai_message = {\n",
    "            'id': last_message.id,\n",
    "            'role': \"ai\",\n",
    "            \"content\": last_message.content,\n",
    "            \"tool_calls\": [\n",
    "                {\"id\": tool_call[\"id\"], \"name\": tool_call[\"name\"], \"args\": review_data}\n",
    "            ]\n",
    "        }\n",
    "        return Command(goto=\"tools\", update={\"messages\": [update_ai_message]})\n",
    "\n",
    "    if review_action == \"update_tool\": # tool_message가 마음에 안드는 경우\n",
    "\n",
    "        update_tool_message = {\n",
    "            \"name\": \n",
    "\n",
    "\n",
    "        }\n",
    "\n",
    "\n",
    "    "
   ]
  },
  {
   "cell_type": "code",
   "execution_count": null,
   "id": "273939ac",
   "metadata": {},
   "outputs": [],
   "source": [
    "def summarize_messages(state: AgentState):\n",
    "\n",
    "    messages = state[\"messages\"]\n",
    "    summary = state[\"summary\"]\n",
    "\n",
    "    summarize_prompt = f\"이 대화들을 요약해주세요. 대화 리스트: {messages}\"\n",
    "\n",
    "    if summary != \"\":\n",
    "        summarize_prompt = f\"\"\"\n",
    "        이전에 요약된 내용을 포함해서 아래의 대화들을 요약해주세요.\n",
    "        요약: {summary},\n",
    "        대화: {messages}\n",
    "        \"\"\"\n",
    "\n",
    "    response = llm.invoke(summarize_prompt)\n",
    "    \n",
    "    return {\"summary\": response.content}"
   ]
  },
  {
   "cell_type": "code",
   "execution_count": null,
   "id": "2f83a841",
   "metadata": {},
   "outputs": [],
   "source": [
    "from langchain_core.messages import RemoveMessage\n",
    "\n",
    "def delete_messages(state:AgentState):\n",
    "\n",
    "    messages = state[\"messages\"]\n",
    "\n",
    "    deleted_messages = [RemoveMessage(id=message.id) for message in messages[:-3]]\n",
    "\n",
    "    return {\"messages\": deleted_messages}\n"
   ]
  },
  {
   "cell_type": "code",
   "execution_count": null,
   "id": "0a398682",
   "metadata": {},
   "outputs": [],
   "source": [
    "def should_continue(state: AgentState):\n",
    "\n",
    "    messages = state[\"messages\"]\n",
    "\n",
    "    if messages[-1].tool_calls:\n",
    "        return \"human_review\"\n",
    "        \n",
    "    return \"summarize_messages\""
   ]
  }
 ],
 "metadata": {
  "kernelspec": {
   "display_name": ".venv",
   "language": "python",
   "name": "python3"
  },
  "language_info": {
   "codemirror_mode": {
    "name": "ipython",
    "version": 3
   },
   "file_extension": ".py",
   "mimetype": "text/x-python",
   "name": "python",
   "nbconvert_exporter": "python",
   "pygments_lexer": "ipython3",
   "version": "3.12.4"
  }
 },
 "nbformat": 4,
 "nbformat_minor": 5
}
