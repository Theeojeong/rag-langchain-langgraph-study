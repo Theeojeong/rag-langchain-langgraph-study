{
 "cells": [
  {
   "cell_type": "markdown",
   "metadata": {},
   "source": [
    "# 1. 패키지 설치"
   ]
  },
  {
   "cell_type": "code",
   "execution_count": 1,
   "metadata": {},
   "outputs": [
    {
     "name": "stdout",
     "output_type": "stream",
     "text": [
      "Requirement already satisfied: python-dotenv in c:\\dev2\\ai_agent\\.venv\\lib\\site-packages (1.1.1)\n",
      "Requirement already satisfied: langchain in c:\\dev2\\ai_agent\\.venv\\lib\\site-packages (0.3.27)\n",
      "Requirement already satisfied: langchain-openai in c:\\dev2\\ai_agent\\.venv\\lib\\site-packages (0.3.28)\n",
      "Requirement already satisfied: langchain-community in c:\\dev2\\ai_agent\\.venv\\lib\\site-packages (0.3.27)\n",
      "Requirement already satisfied: langchain-text-splitters in c:\\dev2\\ai_agent\\.venv\\lib\\site-packages (0.3.9)\n",
      "Requirement already satisfied: docx2txt in c:\\dev2\\ai_agent\\.venv\\lib\\site-packages (0.9)\n",
      "Requirement already satisfied: langchain-chroma in c:\\dev2\\ai_agent\\.venv\\lib\\site-packages (0.2.5)\n",
      "Requirement already satisfied: langchain-core<1.0.0,>=0.3.72 in c:\\dev2\\ai_agent\\.venv\\lib\\site-packages (from langchain) (0.3.72)\n",
      "Requirement already satisfied: langsmith>=0.1.17 in c:\\dev2\\ai_agent\\.venv\\lib\\site-packages (from langchain) (0.4.10)\n",
      "Requirement already satisfied: pydantic<3.0.0,>=2.7.4 in c:\\dev2\\ai_agent\\.venv\\lib\\site-packages (from langchain) (2.11.7)\n",
      "Requirement already satisfied: SQLAlchemy<3,>=1.4 in c:\\dev2\\ai_agent\\.venv\\lib\\site-packages (from langchain) (2.0.42)\n",
      "Requirement already satisfied: requests<3,>=2 in c:\\dev2\\ai_agent\\.venv\\lib\\site-packages (from langchain) (2.32.4)\n",
      "Requirement already satisfied: PyYAML>=5.3 in c:\\dev2\\ai_agent\\.venv\\lib\\site-packages (from langchain) (6.0.2)\n",
      "Requirement already satisfied: tenacity!=8.4.0,<10.0.0,>=8.1.0 in c:\\dev2\\ai_agent\\.venv\\lib\\site-packages (from langchain-core<1.0.0,>=0.3.72->langchain) (9.1.2)\n",
      "Requirement already satisfied: jsonpatch<2.0,>=1.33 in c:\\dev2\\ai_agent\\.venv\\lib\\site-packages (from langchain-core<1.0.0,>=0.3.72->langchain) (1.33)\n",
      "Requirement already satisfied: typing-extensions>=4.7 in c:\\dev2\\ai_agent\\.venv\\lib\\site-packages (from langchain-core<1.0.0,>=0.3.72->langchain) (4.14.1)\n",
      "Requirement already satisfied: packaging>=23.2 in c:\\dev2\\ai_agent\\.venv\\lib\\site-packages (from langchain-core<1.0.0,>=0.3.72->langchain) (24.2)\n",
      "Requirement already satisfied: jsonpointer>=1.9 in c:\\dev2\\ai_agent\\.venv\\lib\\site-packages (from jsonpatch<2.0,>=1.33->langchain-core<1.0.0,>=0.3.72->langchain) (3.0.0)\n",
      "Requirement already satisfied: annotated-types>=0.6.0 in c:\\dev2\\ai_agent\\.venv\\lib\\site-packages (from pydantic<3.0.0,>=2.7.4->langchain) (0.7.0)\n",
      "Requirement already satisfied: pydantic-core==2.33.2 in c:\\dev2\\ai_agent\\.venv\\lib\\site-packages (from pydantic<3.0.0,>=2.7.4->langchain) (2.33.2)\n",
      "Requirement already satisfied: typing-inspection>=0.4.0 in c:\\dev2\\ai_agent\\.venv\\lib\\site-packages (from pydantic<3.0.0,>=2.7.4->langchain) (0.4.1)\n",
      "Requirement already satisfied: charset_normalizer<4,>=2 in c:\\dev2\\ai_agent\\.venv\\lib\\site-packages (from requests<3,>=2->langchain) (3.4.2)\n",
      "Requirement already satisfied: idna<4,>=2.5 in c:\\dev2\\ai_agent\\.venv\\lib\\site-packages (from requests<3,>=2->langchain) (3.10)\n",
      "Requirement already satisfied: urllib3<3,>=1.21.1 in c:\\dev2\\ai_agent\\.venv\\lib\\site-packages (from requests<3,>=2->langchain) (2.5.0)\n",
      "Requirement already satisfied: certifi>=2017.4.17 in c:\\dev2\\ai_agent\\.venv\\lib\\site-packages (from requests<3,>=2->langchain) (2025.8.3)\n",
      "Requirement already satisfied: greenlet>=1 in c:\\dev2\\ai_agent\\.venv\\lib\\site-packages (from SQLAlchemy<3,>=1.4->langchain) (3.2.3)\n",
      "Requirement already satisfied: openai<2.0.0,>=1.86.0 in c:\\dev2\\ai_agent\\.venv\\lib\\site-packages (from langchain-openai) (1.98.0)\n",
      "Requirement already satisfied: tiktoken<1,>=0.7 in c:\\dev2\\ai_agent\\.venv\\lib\\site-packages (from langchain-openai) (0.9.0)\n",
      "Requirement already satisfied: anyio<5,>=3.5.0 in c:\\dev2\\ai_agent\\.venv\\lib\\site-packages (from openai<2.0.0,>=1.86.0->langchain-openai) (4.9.0)\n",
      "Requirement already satisfied: distro<2,>=1.7.0 in c:\\dev2\\ai_agent\\.venv\\lib\\site-packages (from openai<2.0.0,>=1.86.0->langchain-openai) (1.9.0)\n",
      "Requirement already satisfied: httpx<1,>=0.23.0 in c:\\dev2\\ai_agent\\.venv\\lib\\site-packages (from openai<2.0.0,>=1.86.0->langchain-openai) (0.28.1)\n",
      "Requirement already satisfied: jiter<1,>=0.4.0 in c:\\dev2\\ai_agent\\.venv\\lib\\site-packages (from openai<2.0.0,>=1.86.0->langchain-openai) (0.10.0)\n",
      "Requirement already satisfied: sniffio in c:\\dev2\\ai_agent\\.venv\\lib\\site-packages (from openai<2.0.0,>=1.86.0->langchain-openai) (1.3.1)\n",
      "Requirement already satisfied: tqdm>4 in c:\\dev2\\ai_agent\\.venv\\lib\\site-packages (from openai<2.0.0,>=1.86.0->langchain-openai) (4.67.1)\n",
      "Requirement already satisfied: httpcore==1.* in c:\\dev2\\ai_agent\\.venv\\lib\\site-packages (from httpx<1,>=0.23.0->openai<2.0.0,>=1.86.0->langchain-openai) (1.0.9)\n",
      "Requirement already satisfied: h11>=0.16 in c:\\dev2\\ai_agent\\.venv\\lib\\site-packages (from httpcore==1.*->httpx<1,>=0.23.0->openai<2.0.0,>=1.86.0->langchain-openai) (0.16.0)\n",
      "Requirement already satisfied: regex>=2022.1.18 in c:\\dev2\\ai_agent\\.venv\\lib\\site-packages (from tiktoken<1,>=0.7->langchain-openai) (2025.7.34)\n",
      "Requirement already satisfied: aiohttp<4.0.0,>=3.8.3 in c:\\dev2\\ai_agent\\.venv\\lib\\site-packages (from langchain-community) (3.12.15)\n",
      "Requirement already satisfied: dataclasses-json<0.7,>=0.5.7 in c:\\dev2\\ai_agent\\.venv\\lib\\site-packages (from langchain-community) (0.6.7)\n",
      "Requirement already satisfied: pydantic-settings<3.0.0,>=2.4.0 in c:\\dev2\\ai_agent\\.venv\\lib\\site-packages (from langchain-community) (2.10.1)\n",
      "Requirement already satisfied: httpx-sse<1.0.0,>=0.4.0 in c:\\dev2\\ai_agent\\.venv\\lib\\site-packages (from langchain-community) (0.4.1)\n",
      "Requirement already satisfied: numpy>=1.26.2 in c:\\dev2\\ai_agent\\.venv\\lib\\site-packages (from langchain-community) (2.3.2)\n",
      "Requirement already satisfied: aiohappyeyeballs>=2.5.0 in c:\\dev2\\ai_agent\\.venv\\lib\\site-packages (from aiohttp<4.0.0,>=3.8.3->langchain-community) (2.6.1)\n",
      "Requirement already satisfied: aiosignal>=1.4.0 in c:\\dev2\\ai_agent\\.venv\\lib\\site-packages (from aiohttp<4.0.0,>=3.8.3->langchain-community) (1.4.0)\n",
      "Requirement already satisfied: attrs>=17.3.0 in c:\\dev2\\ai_agent\\.venv\\lib\\site-packages (from aiohttp<4.0.0,>=3.8.3->langchain-community) (25.3.0)\n",
      "Requirement already satisfied: frozenlist>=1.1.1 in c:\\dev2\\ai_agent\\.venv\\lib\\site-packages (from aiohttp<4.0.0,>=3.8.3->langchain-community) (1.7.0)\n",
      "Requirement already satisfied: multidict<7.0,>=4.5 in c:\\dev2\\ai_agent\\.venv\\lib\\site-packages (from aiohttp<4.0.0,>=3.8.3->langchain-community) (6.6.3)\n",
      "Requirement already satisfied: propcache>=0.2.0 in c:\\dev2\\ai_agent\\.venv\\lib\\site-packages (from aiohttp<4.0.0,>=3.8.3->langchain-community) (0.3.2)\n",
      "Requirement already satisfied: yarl<2.0,>=1.17.0 in c:\\dev2\\ai_agent\\.venv\\lib\\site-packages (from aiohttp<4.0.0,>=3.8.3->langchain-community) (1.20.1)\n",
      "Requirement already satisfied: marshmallow<4.0.0,>=3.18.0 in c:\\dev2\\ai_agent\\.venv\\lib\\site-packages (from dataclasses-json<0.7,>=0.5.7->langchain-community) (3.26.1)\n",
      "Requirement already satisfied: typing-inspect<1,>=0.4.0 in c:\\dev2\\ai_agent\\.venv\\lib\\site-packages (from dataclasses-json<0.7,>=0.5.7->langchain-community) (0.9.0)\n",
      "Requirement already satisfied: mypy-extensions>=0.3.0 in c:\\dev2\\ai_agent\\.venv\\lib\\site-packages (from typing-inspect<1,>=0.4.0->dataclasses-json<0.7,>=0.5.7->langchain-community) (1.1.0)\n",
      "Requirement already satisfied: chromadb>=1.0.9 in c:\\dev2\\ai_agent\\.venv\\lib\\site-packages (from langchain-chroma) (1.0.15)\n",
      "Requirement already satisfied: build>=1.0.3 in c:\\dev2\\ai_agent\\.venv\\lib\\site-packages (from chromadb>=1.0.9->langchain-chroma) (1.3.0)\n",
      "Requirement already satisfied: pybase64>=1.4.1 in c:\\dev2\\ai_agent\\.venv\\lib\\site-packages (from chromadb>=1.0.9->langchain-chroma) (1.4.2)\n",
      "Requirement already satisfied: uvicorn>=0.18.3 in c:\\dev2\\ai_agent\\.venv\\lib\\site-packages (from uvicorn[standard]>=0.18.3->chromadb>=1.0.9->langchain-chroma) (0.35.0)\n",
      "Requirement already satisfied: posthog<6.0.0,>=2.4.0 in c:\\dev2\\ai_agent\\.venv\\lib\\site-packages (from chromadb>=1.0.9->langchain-chroma) (5.4.0)\n",
      "Requirement already satisfied: onnxruntime>=1.14.1 in c:\\dev2\\ai_agent\\.venv\\lib\\site-packages (from chromadb>=1.0.9->langchain-chroma) (1.22.1)\n",
      "Requirement already satisfied: opentelemetry-api>=1.2.0 in c:\\dev2\\ai_agent\\.venv\\lib\\site-packages (from chromadb>=1.0.9->langchain-chroma) (1.36.0)\n",
      "Requirement already satisfied: opentelemetry-exporter-otlp-proto-grpc>=1.2.0 in c:\\dev2\\ai_agent\\.venv\\lib\\site-packages (from chromadb>=1.0.9->langchain-chroma) (1.36.0)\n",
      "Requirement already satisfied: opentelemetry-sdk>=1.2.0 in c:\\dev2\\ai_agent\\.venv\\lib\\site-packages (from chromadb>=1.0.9->langchain-chroma) (1.36.0)\n",
      "Requirement already satisfied: tokenizers>=0.13.2 in c:\\dev2\\ai_agent\\.venv\\lib\\site-packages (from chromadb>=1.0.9->langchain-chroma) (0.20.3)\n",
      "Requirement already satisfied: pypika>=0.48.9 in c:\\dev2\\ai_agent\\.venv\\lib\\site-packages (from chromadb>=1.0.9->langchain-chroma) (0.48.9)\n",
      "Requirement already satisfied: overrides>=7.3.1 in c:\\dev2\\ai_agent\\.venv\\lib\\site-packages (from chromadb>=1.0.9->langchain-chroma) (7.7.0)\n",
      "Requirement already satisfied: importlib-resources in c:\\dev2\\ai_agent\\.venv\\lib\\site-packages (from chromadb>=1.0.9->langchain-chroma) (6.5.2)\n",
      "Requirement already satisfied: grpcio>=1.58.0 in c:\\dev2\\ai_agent\\.venv\\lib\\site-packages (from chromadb>=1.0.9->langchain-chroma) (1.74.0)\n",
      "Requirement already satisfied: bcrypt>=4.0.1 in c:\\dev2\\ai_agent\\.venv\\lib\\site-packages (from chromadb>=1.0.9->langchain-chroma) (4.3.0)\n",
      "Requirement already satisfied: typer>=0.9.0 in c:\\dev2\\ai_agent\\.venv\\lib\\site-packages (from chromadb>=1.0.9->langchain-chroma) (0.16.0)\n",
      "Requirement already satisfied: kubernetes>=28.1.0 in c:\\dev2\\ai_agent\\.venv\\lib\\site-packages (from chromadb>=1.0.9->langchain-chroma) (33.1.0)\n",
      "Requirement already satisfied: mmh3>=4.0.1 in c:\\dev2\\ai_agent\\.venv\\lib\\site-packages (from chromadb>=1.0.9->langchain-chroma) (5.2.0)\n",
      "Requirement already satisfied: orjson>=3.9.12 in c:\\dev2\\ai_agent\\.venv\\lib\\site-packages (from chromadb>=1.0.9->langchain-chroma) (3.11.1)\n",
      "Requirement already satisfied: rich>=10.11.0 in c:\\dev2\\ai_agent\\.venv\\lib\\site-packages (from chromadb>=1.0.9->langchain-chroma) (14.1.0)\n",
      "Requirement already satisfied: jsonschema>=4.19.0 in c:\\dev2\\ai_agent\\.venv\\lib\\site-packages (from chromadb>=1.0.9->langchain-chroma) (4.25.0)\n",
      "Requirement already satisfied: six>=1.5 in c:\\dev2\\ai_agent\\.venv\\lib\\site-packages (from posthog<6.0.0,>=2.4.0->chromadb>=1.0.9->langchain-chroma) (1.17.0)\n",
      "Requirement already satisfied: python-dateutil>=2.2 in c:\\dev2\\ai_agent\\.venv\\lib\\site-packages (from posthog<6.0.0,>=2.4.0->chromadb>=1.0.9->langchain-chroma) (2.9.0.post0)\n",
      "Requirement already satisfied: backoff>=1.10.0 in c:\\dev2\\ai_agent\\.venv\\lib\\site-packages (from posthog<6.0.0,>=2.4.0->chromadb>=1.0.9->langchain-chroma) (2.2.1)\n",
      "Requirement already satisfied: pyproject_hooks in c:\\dev2\\ai_agent\\.venv\\lib\\site-packages (from build>=1.0.3->chromadb>=1.0.9->langchain-chroma) (1.2.0)\n",
      "Requirement already satisfied: colorama in c:\\dev2\\ai_agent\\.venv\\lib\\site-packages (from build>=1.0.3->chromadb>=1.0.9->langchain-chroma) (0.4.6)\n",
      "Requirement already satisfied: jsonschema-specifications>=2023.03.6 in c:\\dev2\\ai_agent\\.venv\\lib\\site-packages (from jsonschema>=4.19.0->chromadb>=1.0.9->langchain-chroma) (2025.4.1)\n",
      "Requirement already satisfied: referencing>=0.28.4 in c:\\dev2\\ai_agent\\.venv\\lib\\site-packages (from jsonschema>=4.19.0->chromadb>=1.0.9->langchain-chroma) (0.36.2)\n",
      "Requirement already satisfied: rpds-py>=0.7.1 in c:\\dev2\\ai_agent\\.venv\\lib\\site-packages (from jsonschema>=4.19.0->chromadb>=1.0.9->langchain-chroma) (0.26.0)\n",
      "Requirement already satisfied: google-auth>=1.0.1 in c:\\dev2\\ai_agent\\.venv\\lib\\site-packages (from kubernetes>=28.1.0->chromadb>=1.0.9->langchain-chroma) (2.40.3)\n",
      "Requirement already satisfied: websocket-client!=0.40.0,!=0.41.*,!=0.42.*,>=0.32.0 in c:\\dev2\\ai_agent\\.venv\\lib\\site-packages (from kubernetes>=28.1.0->chromadb>=1.0.9->langchain-chroma) (1.8.0)\n",
      "Requirement already satisfied: requests-oauthlib in c:\\dev2\\ai_agent\\.venv\\lib\\site-packages (from kubernetes>=28.1.0->chromadb>=1.0.9->langchain-chroma) (2.0.0)\n",
      "Requirement already satisfied: oauthlib>=3.2.2 in c:\\dev2\\ai_agent\\.venv\\lib\\site-packages (from kubernetes>=28.1.0->chromadb>=1.0.9->langchain-chroma) (3.3.1)\n",
      "Requirement already satisfied: durationpy>=0.7 in c:\\dev2\\ai_agent\\.venv\\lib\\site-packages (from kubernetes>=28.1.0->chromadb>=1.0.9->langchain-chroma) (0.10)\n",
      "Requirement already satisfied: cachetools<6.0,>=2.0.0 in c:\\dev2\\ai_agent\\.venv\\lib\\site-packages (from google-auth>=1.0.1->kubernetes>=28.1.0->chromadb>=1.0.9->langchain-chroma) (5.5.2)\n",
      "Requirement already satisfied: pyasn1-modules>=0.2.1 in c:\\dev2\\ai_agent\\.venv\\lib\\site-packages (from google-auth>=1.0.1->kubernetes>=28.1.0->chromadb>=1.0.9->langchain-chroma) (0.4.2)\n",
      "Requirement already satisfied: rsa<5,>=3.1.4 in c:\\dev2\\ai_agent\\.venv\\lib\\site-packages (from google-auth>=1.0.1->kubernetes>=28.1.0->chromadb>=1.0.9->langchain-chroma) (4.9.1)\n",
      "Requirement already satisfied: pyasn1>=0.1.3 in c:\\dev2\\ai_agent\\.venv\\lib\\site-packages (from rsa<5,>=3.1.4->google-auth>=1.0.1->kubernetes>=28.1.0->chromadb>=1.0.9->langchain-chroma) (0.6.1)\n",
      "Requirement already satisfied: requests-toolbelt>=1.0.0 in c:\\dev2\\ai_agent\\.venv\\lib\\site-packages (from langsmith>=0.1.17->langchain) (1.0.0)\n",
      "Requirement already satisfied: zstandard>=0.23.0 in c:\\dev2\\ai_agent\\.venv\\lib\\site-packages (from langsmith>=0.1.17->langchain) (0.23.0)\n",
      "Requirement already satisfied: coloredlogs in c:\\dev2\\ai_agent\\.venv\\lib\\site-packages (from onnxruntime>=1.14.1->chromadb>=1.0.9->langchain-chroma) (15.0.1)\n",
      "Requirement already satisfied: flatbuffers in c:\\dev2\\ai_agent\\.venv\\lib\\site-packages (from onnxruntime>=1.14.1->chromadb>=1.0.9->langchain-chroma) (25.2.10)\n",
      "Requirement already satisfied: protobuf in c:\\dev2\\ai_agent\\.venv\\lib\\site-packages (from onnxruntime>=1.14.1->chromadb>=1.0.9->langchain-chroma) (6.31.1)\n",
      "Requirement already satisfied: sympy in c:\\dev2\\ai_agent\\.venv\\lib\\site-packages (from onnxruntime>=1.14.1->chromadb>=1.0.9->langchain-chroma) (1.14.0)\n",
      "Requirement already satisfied: importlib-metadata<8.8.0,>=6.0 in c:\\dev2\\ai_agent\\.venv\\lib\\site-packages (from opentelemetry-api>=1.2.0->chromadb>=1.0.9->langchain-chroma) (8.7.0)\n",
      "Requirement already satisfied: zipp>=3.20 in c:\\dev2\\ai_agent\\.venv\\lib\\site-packages (from importlib-metadata<8.8.0,>=6.0->opentelemetry-api>=1.2.0->chromadb>=1.0.9->langchain-chroma) (3.23.0)\n",
      "Requirement already satisfied: googleapis-common-protos~=1.57 in c:\\dev2\\ai_agent\\.venv\\lib\\site-packages (from opentelemetry-exporter-otlp-proto-grpc>=1.2.0->chromadb>=1.0.9->langchain-chroma) (1.70.0)\n",
      "Requirement already satisfied: opentelemetry-exporter-otlp-proto-common==1.36.0 in c:\\dev2\\ai_agent\\.venv\\lib\\site-packages (from opentelemetry-exporter-otlp-proto-grpc>=1.2.0->chromadb>=1.0.9->langchain-chroma) (1.36.0)\n",
      "Requirement already satisfied: opentelemetry-proto==1.36.0 in c:\\dev2\\ai_agent\\.venv\\lib\\site-packages (from opentelemetry-exporter-otlp-proto-grpc>=1.2.0->chromadb>=1.0.9->langchain-chroma) (1.36.0)\n",
      "Requirement already satisfied: opentelemetry-semantic-conventions==0.57b0 in c:\\dev2\\ai_agent\\.venv\\lib\\site-packages (from opentelemetry-sdk>=1.2.0->chromadb>=1.0.9->langchain-chroma) (0.57b0)\n",
      "Requirement already satisfied: markdown-it-py>=2.2.0 in c:\\dev2\\ai_agent\\.venv\\lib\\site-packages (from rich>=10.11.0->chromadb>=1.0.9->langchain-chroma) (3.0.0)\n",
      "Requirement already satisfied: pygments<3.0.0,>=2.13.0 in c:\\dev2\\ai_agent\\.venv\\lib\\site-packages (from rich>=10.11.0->chromadb>=1.0.9->langchain-chroma) (2.19.2)\n",
      "Requirement already satisfied: mdurl~=0.1 in c:\\dev2\\ai_agent\\.venv\\lib\\site-packages (from markdown-it-py>=2.2.0->rich>=10.11.0->chromadb>=1.0.9->langchain-chroma) (0.1.2)\n",
      "Requirement already satisfied: huggingface-hub<1.0,>=0.16.4 in c:\\dev2\\ai_agent\\.venv\\lib\\site-packages (from tokenizers>=0.13.2->chromadb>=1.0.9->langchain-chroma) (0.34.3)\n",
      "Requirement already satisfied: filelock in c:\\dev2\\ai_agent\\.venv\\lib\\site-packages (from huggingface-hub<1.0,>=0.16.4->tokenizers>=0.13.2->chromadb>=1.0.9->langchain-chroma) (3.18.0)\n",
      "Requirement already satisfied: fsspec>=2023.5.0 in c:\\dev2\\ai_agent\\.venv\\lib\\site-packages (from huggingface-hub<1.0,>=0.16.4->tokenizers>=0.13.2->chromadb>=1.0.9->langchain-chroma) (2025.7.0)\n",
      "Requirement already satisfied: click>=8.0.0 in c:\\dev2\\ai_agent\\.venv\\lib\\site-packages (from typer>=0.9.0->chromadb>=1.0.9->langchain-chroma) (8.2.1)\n",
      "Requirement already satisfied: shellingham>=1.3.0 in c:\\dev2\\ai_agent\\.venv\\lib\\site-packages (from typer>=0.9.0->chromadb>=1.0.9->langchain-chroma) (1.5.4)\n",
      "Requirement already satisfied: httptools>=0.6.3 in c:\\dev2\\ai_agent\\.venv\\lib\\site-packages (from uvicorn[standard]>=0.18.3->chromadb>=1.0.9->langchain-chroma) (0.6.4)\n",
      "Requirement already satisfied: watchfiles>=0.13 in c:\\dev2\\ai_agent\\.venv\\lib\\site-packages (from uvicorn[standard]>=0.18.3->chromadb>=1.0.9->langchain-chroma) (1.1.0)\n",
      "Requirement already satisfied: websockets>=10.4 in c:\\dev2\\ai_agent\\.venv\\lib\\site-packages (from uvicorn[standard]>=0.18.3->chromadb>=1.0.9->langchain-chroma) (15.0.1)\n",
      "Requirement already satisfied: humanfriendly>=9.1 in c:\\dev2\\ai_agent\\.venv\\lib\\site-packages (from coloredlogs->onnxruntime>=1.14.1->chromadb>=1.0.9->langchain-chroma) (10.0)\n",
      "Requirement already satisfied: pyreadline3 in c:\\dev2\\ai_agent\\.venv\\lib\\site-packages (from humanfriendly>=9.1->coloredlogs->onnxruntime>=1.14.1->chromadb>=1.0.9->langchain-chroma) (3.5.4)\n",
      "Requirement already satisfied: mpmath<1.4,>=1.1.0 in c:\\dev2\\ai_agent\\.venv\\lib\\site-packages (from sympy->onnxruntime>=1.14.1->chromadb>=1.0.9->langchain-chroma) (1.3.0)\n",
      "Note: you may need to restart the kernel to use updated packages.\n"
     ]
    }
   ],
   "source": [
    "%pip install python-dotenv langchain langchain-openai langchain-community langchain-text-splitters docx2txt langchain-chroma"
   ]
  },
  {
   "cell_type": "markdown",
   "metadata": {},
   "source": [
    "# 2. Knowledge Base 구성을 위한 데이터 생성\n",
    "\n",
    "- [RecursiveCharacterTextSplitter](https://python.langchain.com/v0.2/docs/how_to/recursive_text_splitter/)를 활용한 데이터 chunking\n",
    "    - split 된 데이터 chunk를 Large Language Model(LLM)에게 전달하면 토큰 절약 가능\n",
    "    - 비용 감소와 답변 생성시간 감소의 효과\n",
    "    - LangChain에서 다양한 [TextSplitter](https://python.langchain.com/v0.2/docs/how_to/#text-splitters)들을 제공\n",
    "- `chunk_size` 는 split 된 chunk의 최대 크기\n",
    "- `chunk_overlap`은 앞 뒤로 나뉘어진 chunk들이 얼마나 겹쳐도 되는지 지정"
   ]
  },
  {
   "cell_type": "code",
   "execution_count": 4,
   "metadata": {},
   "outputs": [],
   "source": [
    "from langchain_community.document_loaders import Docx2txtLoader\n",
    "from langchain_text_splitters import RecursiveCharacterTextSplitter\n",
    "\n",
    "text_splitter = RecursiveCharacterTextSplitter(\n",
    "    chunk_size=1500,\n",
    "    chunk_overlap=200,\n",
    ")\n",
    "\n",
    "loader = Docx2txtLoader(\"tax_docs\\\\tax_with_markdown.docx\")\n",
    "document_list = loader.load_and_split(text_splitter=text_splitter)"
   ]
  },
  {
   "cell_type": "code",
   "execution_count": 5,
   "metadata": {},
   "outputs": [],
   "source": [
    "from dotenv import load_dotenv\n",
    "from langchain_openai import OpenAIEmbeddings\n",
    "\n",
    "# 환경변수를 불러옴\n",
    "load_dotenv()\n",
    "\n",
    "# OpenAI에서 제공하는 Embedding Model을 활용해서 `chunk`를 vector화\n",
    "embedding = OpenAIEmbeddings(model=\"text-embedding-3-large\")"
   ]
  },
  {
   "cell_type": "code",
   "execution_count": 6,
   "metadata": {},
   "outputs": [],
   "source": [
    "from langchain_chroma import Chroma\n",
    "\n",
    "# 데이터를 처음 저장할 때\n",
    "# database = Chroma.from_documents(documents=document_list, embedding=embedding, collection_name='chroma-tax', persist_directory=\"./chroma\")\n",
    "\n",
    "# 이미 저장된 데이터를 사용할 때\n",
    "database = Chroma(\n",
    "    collection_name=\"chroma-tax\",\n",
    "    persist_directory=\"./chroma\",\n",
    "    embedding_function=embedding,\n",
    ")"
   ]
  },
  {
   "cell_type": "markdown",
   "metadata": {},
   "source": [
    "# 3. 답변 생성을 위한 Retrieval\n",
    "\n",
    "- `Chroma`에 저장한 데이터를 유사도 검색(`similarity_search()`)를 활용해서 가져옴"
   ]
  },
  {
   "cell_type": "code",
   "execution_count": 7,
   "metadata": {},
   "outputs": [],
   "source": [
    "query = \"연봉 5천만원인 직장인의 소득세는 얼마인가요?\"\n",
    "\n",
    "# `k` 값을 조절해서 얼마나 많은 데이터를 불러올지 결정\n",
    "retrieved_docs = database.similarity_search(query, k=3)"
   ]
  },
  {
   "cell_type": "markdown",
   "metadata": {},
   "source": [
    "# 4. Augmentation을 위한 Prompt 활용\n",
    "\n",
    "- Retrieval된 데이터는 LangChain에서 제공하는 프롬프트(`\"rlm/rag-prompt\"`) 사용"
   ]
  },
  {
   "cell_type": "code",
   "execution_count": null,
   "metadata": {},
   "outputs": [],
   "source": [
    "from langchain_openai import ChatOpenAI\n",
    "\n",
    "llm = ChatOpenAI(model=\"gpt-4o\")"
   ]
  },
  {
   "cell_type": "code",
   "execution_count": 9,
   "metadata": {},
   "outputs": [],
   "source": [
    "from langchain import hub\n",
    "\n",
    "prompt = hub.pull(\"rlm/rag-prompt\")"
   ]
  },
  {
   "cell_type": "markdown",
   "metadata": {},
   "source": [
    "# 5. 답변 생성\n",
    "\n",
    "- [RetrievalQA](https://docs.smith.langchain.com/old/cookbook/hub-examples/retrieval-qa-chain)를 통해 LLM에 전달\n",
    "    - `RetrievalQA`는 [create_retrieval_chain](https://python.langchain.com/v0.2/docs/how_to/qa_sources/#using-create_retrieval_chain)으로 대체됨\n",
    "    - 실제 ChatBot 구현 시 `create_retrieval_chain`으로 변경하는 과정을 볼 수 있음"
   ]
  },
  {
   "cell_type": "code",
   "execution_count": 10,
   "metadata": {},
   "outputs": [],
   "source": [
    "from langchain.chains import RetrievalQA\n",
    "\n",
    "qa_chain = RetrievalQA.from_chain_type(\n",
    "    llm, retriever=database.as_retriever(), chain_type_kwargs={\"prompt\": prompt}\n",
    ")"
   ]
  },
  {
   "cell_type": "code",
   "execution_count": 12,
   "metadata": {},
   "outputs": [],
   "source": [
    "# 강의에서는 위처럼 진행하지만 업데이트된 LangChain 문법은 `.invoke()` 활용을 권장\n",
    "ai_message = qa_chain.invoke({\"query\": query})"
   ]
  },
  {
   "cell_type": "code",
   "execution_count": 13,
   "metadata": {},
   "outputs": [
    {
     "data": {
      "text/plain": [
       "{'query': '연봉 5천만원인 직장인의 소득세는 얼마인가요?',\n",
       " 'result': '죄송하지만, 주어진 문맥만으로 연봉 5천만 원인 직장인의 소득세를 계산할 수 없습니다. 소득세는 다양한 세율과 공제 사항에 따라 다를 수 있으며, 구체적인 소득세 계산 방법을 참고해야 합니다. 한국의 소득세 계산 표 또는 가이드라인을 확인하시기 바랍니다.'}"
      ]
     },
     "execution_count": 13,
     "metadata": {},
     "output_type": "execute_result"
    }
   ],
   "source": [
    "ai_message"
   ]
  }
 ],
 "metadata": {
  "kernelspec": {
   "display_name": ".venv",
   "language": "python",
   "name": "python3"
  },
  "language_info": {
   "codemirror_mode": {
    "name": "ipython",
    "version": 3
   },
   "file_extension": ".py",
   "mimetype": "text/x-python",
   "name": "python",
   "nbconvert_exporter": "python",
   "pygments_lexer": "ipython3",
   "version": "3.12.4"
  }
 },
 "nbformat": 4,
 "nbformat_minor": 2
}
